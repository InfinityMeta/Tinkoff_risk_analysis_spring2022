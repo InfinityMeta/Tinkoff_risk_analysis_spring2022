{
 "cells": [
  {
   "cell_type": "markdown",
   "metadata": {},
   "source": [
    "# Импортируем нужные библиотеки"
   ]
  },
  {
   "cell_type": "code",
   "execution_count": null,
   "metadata": {
    "ExecuteTime": {
     "end_time": "2022-04-01T14:42:06.419703Z",
     "start_time": "2022-04-01T14:41:58.763871Z"
    }
   },
   "outputs": [],
   "source": [
    "from matplotlib import pyplot as plt\n",
    "from matplotlib.colors import ListedColormap\n",
    "from sklearn import model_selection, datasets, metrics, tree, ensemble\n",
    "from scipy.interpolate import griddata\n",
    "\n",
    "import lightgbm as lgb\n",
    "import numpy as np\n",
    "import pandas as pd\n",
    "import seaborn as sns\n",
    "\n",
    "import time"
   ]
  },
  {
   "cell_type": "markdown",
   "metadata": {},
   "source": [
    "# Готовим данные"
   ]
  },
  {
   "cell_type": "markdown",
   "metadata": {},
   "source": [
    "Генерируем выборку с помощью sklearn.datasets.make_regression (https://scikit-learn.org/stable/modules/generated/sklearn.datasets.make_regression.html) со следующими параметрами:\n",
    "1. Наблюдений - 10 тысяч\n",
    "2. Всех фичей - 100\n",
    "3. Информативных фичей - 50"
   ]
  },
  {
   "cell_type": "code",
   "execution_count": null,
   "metadata": {
    "ExecuteTime": {
     "end_time": "2022-04-01T15:55:39.628151Z",
     "start_time": "2022-04-01T15:55:39.563322Z"
    }
   },
   "outputs": [],
   "source": [
    "regression_problem = datasets.make_regression(n_samples=10000, n_features=100,\n",
    "                                              n_informative=50, random_state=42)"
   ]
  },
  {
   "cell_type": "code",
   "execution_count": null,
   "metadata": {
    "ExecuteTime": {
     "end_time": "2022-04-01T15:55:40.405851Z",
     "start_time": "2022-04-01T15:55:40.392856Z"
    }
   },
   "outputs": [],
   "source": [
    "regression_problem[0].shape"
   ]
  },
  {
   "cell_type": "markdown",
   "metadata": {},
   "source": [
    "Разбиваем выборку на **train** и **test** в отношении 75:25."
   ]
  },
  {
   "cell_type": "code",
   "execution_count": null,
   "metadata": {
    "ExecuteTime": {
     "end_time": "2022-04-01T17:32:45.611475Z",
     "start_time": "2022-04-01T17:32:45.594499Z"
    }
   },
   "outputs": [],
   "source": [
    "train_data, test_data, train_labels, test_labels = model_selection.train_test_split(regression_problem[0],\n",
    "                                                                                    regression_problem[1],\n",
    "                                                                                    test_size=0.25,\n",
    "                                                                                    random_state=42)"
   ]
  },
  {
   "cell_type": "markdown",
   "metadata": {},
   "source": [
    "# Строим модели"
   ]
  },
  {
   "cell_type": "markdown",
   "metadata": {},
   "source": [
    "Рассматривается задача **регрессии**: по исходным признакам требуется восстановить непрерывный таргет.\n",
    "\n",
    "**Цель**: минимизировать метрику **MSE** (среднеквадратическая ошибка)."
   ]
  },
  {
   "cell_type": "markdown",
   "metadata": {},
   "source": [
    "В качестве максимальной ошибки будем рассматривать алгоритм, который выдает в качестве ответа константу - среднее значение таргета на обучающей выборке."
   ]
  },
  {
   "cell_type": "code",
   "execution_count": null,
   "metadata": {
    "ExecuteTime": {
     "end_time": "2022-04-01T18:56:32.939347Z",
     "start_time": "2022-04-01T18:56:32.926382Z"
    }
   },
   "outputs": [],
   "source": [
    "round(metrics.mean_squared_error(test_labels, test_labels.shape[0] * [train_labels.mean()]))"
   ]
  },
  {
   "cell_type": "markdown",
   "metadata": {},
   "source": [
    "## Дерево решений"
   ]
  },
  {
   "cell_type": "markdown",
   "metadata": {},
   "source": [
    "***Задание 1.***\n",
    "\n",
    "Требуется обучая деревья решений на трейне, подобрать гиперпараметры **max_depth** и **min_samples_leaf** так, чтобы **MSE** на тесте было меньше **130 000**. При этом разница в качестве на обучающей и тестовой выборках должно различаться не более, чем на **15 000**."
   ]
  },
  {
   "cell_type": "code",
   "execution_count": null,
   "metadata": {},
   "outputs": [],
   "source": [
    "tree_regressor = tree.DecisionTreeRegressor(max_depth=..., min_samples_leaf=...,\n",
    "                                            random_state=42)\n",
    "tree_regressor.fit(train_data, train_labels)"
   ]
  },
  {
   "cell_type": "code",
   "execution_count": null,
   "metadata": {},
   "outputs": [],
   "source": [
    "predictions = tree_regressor.predict(train_data)\n",
    "train_tree_MSE = metrics.mean_squared_error(train_labels, predictions)"
   ]
  },
  {
   "cell_type": "code",
   "execution_count": null,
   "metadata": {},
   "outputs": [],
   "source": [
    "predictions = tree_regressor.predict(test_data)\n",
    "test_tree_MSE = metrics.mean_squared_error(test_labels, predictions)"
   ]
  },
  {
   "cell_type": "code",
   "execution_count": null,
   "metadata": {},
   "outputs": [],
   "source": [
    "if (test_tree_MSE < 130000) and (test_tree_MSE - train_tree_MSE <= 15000):\n",
    "    print('Вы восхитительны!')"
   ]
  },
  {
   "cell_type": "markdown",
   "metadata": {},
   "source": [
    "***Задание 2.***\n",
    "\n",
    "Расскажите, почему вы выбрали именно эти значения для гиперпараметров?"
   ]
  },
  {
   "cell_type": "markdown",
   "metadata": {},
   "source": [
    "Ответ:"
   ]
  },
  {
   "cell_type": "markdown",
   "metadata": {},
   "source": [
    "***Задание 3.***\n",
    "\n",
    "Визуализируйте построенное дерево. Можно воспользоваться методом, который был продемонстрирован на семинаре."
   ]
  },
  {
   "cell_type": "code",
   "execution_count": null,
   "metadata": {},
   "outputs": [],
   "source": []
  },
  {
   "cell_type": "markdown",
   "metadata": {},
   "source": [
    "***Задание 4.***\n",
    "\n",
    "Далее посмотрим, как работает построенное дерево. Для этого выберем 2 самых значимых для дерева признака и визуализируем сплиты по ним. Можете использовать как указанную ниже функции функции, так и собственно написанные.\n",
    "\n",
    "Нужно выбрать 2 признака и выполнить функцию для обучающей и тестовой выборок."
   ]
  },
  {
   "cell_type": "code",
   "execution_count": null,
   "metadata": {
    "ExecuteTime": {
     "end_time": "2022-04-01T17:46:13.903216Z",
     "start_time": "2022-04-01T17:46:13.890251Z"
    }
   },
   "outputs": [],
   "source": [
    "def plot_decision_surface(i, j, data, labels, split_1, split_2, left_flg):\n",
    "    \"\"\"\n",
    "        i - номер первого признака\n",
    "        j - номер второго признака\n",
    "        data - выборка с признаками\n",
    "        labels - выборка с таргетом\n",
    "        split_1 - значение из условия на первый признак\n",
    "        split_2 - значение из условия на второй признак\n",
    "        left_flg - флаг того, что второй признак рассматривается при невыполнении\n",
    "        в дереве условия на первый признак\n",
    "    \"\"\"\n",
    "    x = data[:, i]\n",
    "    y = data[:, j]\n",
    "    z = labels\n",
    "    \n",
    "    resolution = '50j'\n",
    "    X, Y = np.mgrid[min(x):max(x):complex(resolution), min(y):max(y):complex(resolution)]\n",
    "    points = [[a,b] for a,b in zip(x,y)]\n",
    "    Z = griddata(points, z, (X, Y), method=contour_method)\n",
    "\n",
    "    plt.figure(figsize=(14, 10))\n",
    "    plt.contourf(X, Y, Z, cmap='winter')\n",
    "    plt.colorbar()\n",
    "    plt.plot([split_1, split_1], [y.min(), y.max()], 'r', linewidth=5, label='First split')\n",
    "    if left_flg:\n",
    "        split_list = [x.min(), split_1]\n",
    "    else:\n",
    "        split_list = [split_1, x.max()]\n",
    "    plt.plot(split_list, [split_2, split_2], 'm', linewidth=5, label='Second split')\n",
    "    plt.legend()\n",
    "    plt.xlabel(f'X[{i}]')\n",
    "    plt.ylabel(f'X[{j}]')\n",
    "    plt.show()"
   ]
  },
  {
   "cell_type": "code",
   "execution_count": null,
   "metadata": {},
   "outputs": [],
   "source": [
    "first_feature_number = ...\n",
    "second_feature_number = ..."
   ]
  },
  {
   "cell_type": "code",
   "execution_count": null,
   "metadata": {
    "ExecuteTime": {
     "end_time": "2022-04-01T17:46:35.452073Z",
     "start_time": "2022-04-01T17:46:34.986110Z"
    }
   },
   "outputs": [],
   "source": [
    "plot_decision_surface(first_feature_number, second_feature_number, train_data, train_labels, ..., ..., ...)"
   ]
  },
  {
   "cell_type": "code",
   "execution_count": null,
   "metadata": {},
   "outputs": [],
   "source": [
    "plot_decision_surface(first_feature_number, second_feature_number, test_data, test_labels, ..., ..., ...)"
   ]
  },
  {
   "cell_type": "markdown",
   "metadata": {},
   "source": [
    "Как вы оцениваете разбиение выборок по двум сплитам из дерева?"
   ]
  },
  {
   "cell_type": "markdown",
   "metadata": {},
   "source": [
    "Ответ:"
   ]
  },
  {
   "cell_type": "markdown",
   "metadata": {},
   "source": [
    "## Случайный лес"
   ]
  },
  {
   "cell_type": "markdown",
   "metadata": {},
   "source": [
    "***Задание 5.***\n",
    "\n",
    "Задание, аналогичное второму:\n",
    "\n",
    "Требуется обучая случайные леса на трейне, подобрать гиперпараметры **n_estimators**, **max_depth** и **min_samples_leaf** так, чтобы **MSE** на тесте было меньше **100 000**. При этом разница в качестве на обучающей и тестовой выборках должно различаться не более, чем на **15 000**."
   ]
  },
  {
   "cell_type": "code",
   "execution_count": null,
   "metadata": {},
   "outputs": [],
   "source": [
    "forest_regressor = ensemble.RandomForestRegressor(n_estimators=..., max_depth=..., min_samples_leaf=...,\n",
    "                                                  max_features='sqrt', random_state=42)\n",
    "forest_regressor.fit(train_data, train_labels)"
   ]
  },
  {
   "cell_type": "code",
   "execution_count": null,
   "metadata": {},
   "outputs": [],
   "source": [
    "predictions = forest_regressor.predict(train_data)\n",
    "train_forest_MSE = metrics.mean_squared_error(train_labels, predictions)"
   ]
  },
  {
   "cell_type": "code",
   "execution_count": null,
   "metadata": {},
   "outputs": [],
   "source": [
    "predictions = forest_regressor.predict(test_data)\n",
    "test_forest_MSE = metrics.mean_squared_error(test_labels, predictions)"
   ]
  },
  {
   "cell_type": "code",
   "execution_count": null,
   "metadata": {},
   "outputs": [],
   "source": [
    "if (test_forest_MSE < 100000) and (test_forest_MSE - train_forest_MSE <= 15000):\n",
    "    print('Вы прекрасны!!')"
   ]
  },
  {
   "cell_type": "markdown",
   "metadata": {},
   "source": [
    "***Задание 6.***\n",
    "\n",
    "Расскажите, почему вы выбрали именно эти значения для гиперпараметров?"
   ]
  },
  {
   "cell_type": "markdown",
   "metadata": {},
   "source": [
    "Ответ:"
   ]
  },
  {
   "cell_type": "markdown",
   "metadata": {},
   "source": [
    "***Задание 7.***\n",
    "\n",
    "Выведите топ-10 по значимости признаков построенного дерева."
   ]
  },
  {
   "cell_type": "code",
   "execution_count": null,
   "metadata": {},
   "outputs": [],
   "source": []
  },
  {
   "cell_type": "markdown",
   "metadata": {},
   "source": [
    "Два самых значимых признака дерева решений из пятого задания присутствуют в списке выше?"
   ]
  },
  {
   "cell_type": "markdown",
   "metadata": {},
   "source": [
    "Ответ:"
   ]
  },
  {
   "cell_type": "markdown",
   "metadata": {},
   "source": [
    "## Градиентный бустинг LGBM"
   ]
  },
  {
   "cell_type": "markdown",
   "metadata": {},
   "source": [
    "***Задание 8.***\n",
    "\n",
    "Снова требуется обучая теперь уже градиентный бустинги на трейне, подобрать гиперпараметры **n_estimators**, **max_depth** и **learning_rate** так, чтобы **MSE** на тесте было меньше **42 000**. При этом разница в качестве на обучающей и тестовой выборках должно различаться не более, чем на **10 000**."
   ]
  },
  {
   "cell_type": "code",
   "execution_count": null,
   "metadata": {
    "ExecuteTime": {
     "end_time": "2022-04-01T22:05:20.381693Z",
     "start_time": "2022-04-01T22:05:20.091988Z"
    }
   },
   "outputs": [],
   "source": [
    "LGBM_regressor = lgb.RandomForestRegressor(n_estimators=..., max_depth=..., min_samples_leaf=...,\n",
    "                                           random_state=42)\n",
    "LGBM_regressor.fit(train_data, train_labels)"
   ]
  },
  {
   "cell_type": "code",
   "execution_count": null,
   "metadata": {},
   "outputs": [],
   "source": [
    "predictions = LGBM_regressor.predict(train_data)\n",
    "train_LGBM_MSE = metrics.mean_squared_error(train_labels, predictions)"
   ]
  },
  {
   "cell_type": "code",
   "execution_count": null,
   "metadata": {},
   "outputs": [],
   "source": [
    "predictions = LGBM_regressor.predict(test_data)\n",
    "test_LGBM_MSE = metrics.mean_squared_error(test_labels, predictions)"
   ]
  },
  {
   "cell_type": "code",
   "execution_count": null,
   "metadata": {},
   "outputs": [],
   "source": [
    "if (test_LGBM_MSE < 42000) and (test_LGBM_MSE - train_LGBM_MSE <= 10000):\n",
    "    print('Вы чудесны!!!')"
   ]
  },
  {
   "cell_type": "markdown",
   "metadata": {},
   "source": [
    "***Задание 9.***\n",
    "\n",
    "Расскажите, почему вы выбрали именно эти значения для гиперпараметров?"
   ]
  },
  {
   "cell_type": "markdown",
   "metadata": {},
   "source": [
    "Ответ:"
   ]
  },
  {
   "cell_type": "markdown",
   "metadata": {},
   "source": [
    "***Задание 10.***\n",
    "\n",
    "Выведите топ-10 по значимости признаков построенного бустинга."
   ]
  },
  {
   "cell_type": "code",
   "execution_count": null,
   "metadata": {},
   "outputs": [],
   "source": []
  },
  {
   "cell_type": "markdown",
   "metadata": {},
   "source": [
    "Два самых значимых признака дерева решений из пятого задания присутствуют в списке выше? Насколько данный топ совпадает с топом, полученным для случайного леса?"
   ]
  },
  {
   "cell_type": "markdown",
   "metadata": {},
   "source": [
    "Ответ:"
   ]
  },
  {
   "cell_type": "markdown",
   "metadata": {},
   "source": [
    "***Задание 11.***\n",
    "\n",
    "Не меняя гиперпараметры **max_depth** и **learning_rate**, постройте зависимость **MSE** от числа деревьев, обучая для каждого значения **n_estimators** новый бустинг. **MSE** нужно подсчитать для обучающей и тестовой выборок.\n",
    "\n",
    "Изобразите полученные зависимости на графике (ось Оx - **n_estimators**, ось Оy - **MSE**). Должно получится 2 линии, каждая из которых соответствует качеству на трейне и тесте."
   ]
  },
  {
   "cell_type": "code",
   "execution_count": null,
   "metadata": {},
   "outputs": [],
   "source": []
  },
  {
   "cell_type": "markdown",
   "metadata": {},
   "source": [
    "Какой вывод можно сделать из графика? Что будет, если выбрать **n_estimators** меньшее или большее относительно того, которое вы получили в десятом задании?"
   ]
  },
  {
   "cell_type": "markdown",
   "metadata": {},
   "source": [
    "Ответ:"
   ]
  },
  {
   "cell_type": "markdown",
   "metadata": {},
   "source": [
    "В случае возникновения вопросов по заданиям обращайтесь в общий чат."
   ]
  }
 ],
 "metadata": {
  "kernelspec": {
   "display_name": "Python 3",
   "language": "python",
   "name": "python3"
  },
  "language_info": {
   "codemirror_mode": {
    "name": "ipython",
    "version": 3
   },
   "file_extension": ".py",
   "mimetype": "text/x-python",
   "name": "python",
   "nbconvert_exporter": "python",
   "pygments_lexer": "ipython3",
   "version": "3.8.11"
  },
  "toc": {
   "base_numbering": 1,
   "nav_menu": {},
   "number_sections": true,
   "sideBar": true,
   "skip_h1_title": false,
   "title_cell": "Table of Contents",
   "title_sidebar": "Contents",
   "toc_cell": false,
   "toc_position": {},
   "toc_section_display": true,
   "toc_window_display": false
  }
 },
 "nbformat": 4,
 "nbformat_minor": 4
}
