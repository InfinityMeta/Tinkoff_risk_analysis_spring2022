{
 "cells": [
  {
   "cell_type": "code",
   "execution_count": 1,
   "metadata": {},
   "outputs": [
    {
     "name": "stderr",
     "output_type": "stream",
     "text": [
      "C:\\Users\\a.blokhina\\AppData\\Roaming\\Python\\Python37\\site-packages\\pandas\\compat\\_optional.py:138: UserWarning: Pandas requires version '2.7.0' or newer of 'numexpr' (version '2.6.9' currently installed).\n",
      "  warnings.warn(msg, UserWarning)\n"
     ]
    },
    {
     "data": {
      "text/html": [
       "<style>.container { width:100% !important; }</style>"
      ],
      "text/plain": [
       "<IPython.core.display.HTML object>"
      ]
     },
     "metadata": {},
     "output_type": "display_data"
    }
   ],
   "source": [
    "from IPython.core.display import display, HTML\n",
    "display(HTML(\"<style>.container { width:100% !important; }</style>\"))"
   ]
  },
  {
   "cell_type": "markdown",
   "metadata": {},
   "source": [
    "# Прогнозирование поведения клиента (ДЗ)"
   ]
  },
  {
   "cell_type": "markdown",
   "metadata": {},
   "source": [
    "Привет!\n",
    "\n",
    "В данном домашнем задании тебе предстоит построить кривые def rate, dlq ratio и clo rate (подробные пункты перечислены ниже). Для выполнения тебе понадобится выборка с данными, которую использовали на семинаре (**data_vintages.csv**), x_score с семинара (**data_scores.csv**) и PD, который ты получил по итогу выполнения предыдущего ДЗ (скор, предсказывающий вероятность выпадения в дефолт за первые 12 месяцев жизни кредита). Не бойся выходить за рамки методов, предлженных в лекции. Главное - не забывай **аргументировать** свой выбор и давать **комментарии** своим действиям. \n",
    "\n",
    "Удачи!"
   ]
  },
  {
   "cell_type": "markdown",
   "metadata": {},
   "source": [
    "#### Как будет оцениваться ваша работа:\n",
    "За это ДЗ ты можешь получить максимум **14 баллов** (10 за обязатеьную часть и 4 за часть со звездочкой). Все пункты весят по-разному, баллы указаны рядом с пунктами. Баллы могут сниматться в случае неполного выполнения задания или отсутствия аргументации.\n",
    "\n",
    "Задание со зведочкой не обязательно к выполнению."
   ]
  },
  {
   "cell_type": "markdown",
   "metadata": {},
   "source": [
    "#### Задачи:\n",
    "\n",
    "1) Построить кривые DEF rate и DLQ ratio, используя PD, полученный на предыдущем ДЗ. В качестве результаты приложите отдельный ноутбук с названием 'Surname_def_dlq.ipynb' (1 балл)\n",
    "\n",
    "2) Построить кривые CLO rate \n",
    "    - Построить винтажи CLO ratio (1 балл)\n",
    "    - Выбрать переменную для разбивки по бакетам (2 балла)\n",
    "    - Провести анализ поколений (0.5 баллов)\n",
    "    - Построить винтажи CLO rate (2 балла)\n",
    "    - Провести анализ на особые точки (0.5 балла)\n",
    "    - Построить среднее по винтажам для каждого бакета (1 балл)\n",
    "    - Сгладить кривые (2 балла)\n",
    "    \n",
    "3) * Провести анализ на наличие макроэкономического воздействия (4 балла)\n",
    "\n",
    "В качестве результата по пунктам 2 и 3 приложите текущий ноутбук с названием 'Surname_clo.ipynb'"
   ]
  },
  {
   "cell_type": "markdown",
   "metadata": {},
   "source": [
    "## Кривые CLO rate"
   ]
  },
  {
   "cell_type": "markdown",
   "metadata": {},
   "source": [
    "#### Выгружаем данные с винтажами"
   ]
  },
  {
   "cell_type": "code",
   "execution_count": 1,
   "metadata": {},
   "outputs": [],
   "source": [
    "# В качестве данных для винтажей используй файл с семинара data_vintages.csv"
   ]
  },
  {
   "cell_type": "markdown",
   "metadata": {},
   "source": [
    "#### Выгружаем данные со скорами для дальнейшей разбивки на бакеты"
   ]
  },
  {
   "cell_type": "code",
   "execution_count": 2,
   "metadata": {},
   "outputs": [],
   "source": [
    "# Тебе понадобятся два скора: \n",
    "# 1) x_score из файла data_scores.csv \n",
    "# 2) PD (вероятность дефолта за 12 месяцев), который вы получили в предыдущем ДЗ"
   ]
  },
  {
   "cell_type": "markdown",
   "metadata": {},
   "source": [
    "#### Бъем выборку на бакеты и джойним с данными с винтажами"
   ]
  },
  {
   "cell_type": "code",
   "execution_count": 3,
   "metadata": {},
   "outputs": [],
   "source": [
    "# Разбей данные на 3 бакета по каждой переменной"
   ]
  },
  {
   "cell_type": "markdown",
   "metadata": {},
   "source": [
    "### Построй винтажи кривой Clo ratio (1 балл)\n",
    "\n",
    "\n",
    "Clo ratio - доля закрытых счетов:\n",
    "### $$ CLO ratio_n = \\frac{\\#CLO_n}{\\#cnt_n}$$\n"
   ]
  },
  {
   "cell_type": "code",
   "execution_count": 5,
   "metadata": {},
   "outputs": [],
   "source": [
    "def plot_clo_ratio_by_generation():\n",
    "#     код функции"
   ]
  },
  {
   "cell_type": "markdown",
   "metadata": {},
   "source": [
    "### Выбери переменную, которая делит кривые наилучшим образом (2 балла)\n",
    "\n",
    " Из двух скоров (x_score и ваш PD) выбери тот, который разделяет кривые наилучшим образом"
   ]
  },
  {
   "cell_type": "code",
   "execution_count": 7,
   "metadata": {},
   "outputs": [],
   "source": [
    "def plot_clo_ratio_by_bucket():\n",
    "#     код функции"
   ]
  },
  {
   "cell_type": "markdown",
   "metadata": {},
   "source": [
    "#### Вывод: здесь укажи выбранную тобой переменную и обоснуй свой выбор"
   ]
  },
  {
   "cell_type": "markdown",
   "metadata": {},
   "source": [
    "### Анализ странных поколений (0.5 баллов)"
   ]
  },
  {
   "cell_type": "markdown",
   "metadata": {},
   "source": [
    "Отрисуй распределение данных во времени в разбивке по выбранной перменной"
   ]
  },
  {
   "cell_type": "code",
   "execution_count": 8,
   "metadata": {},
   "outputs": [],
   "source": [
    "def plot_distribution():\n",
    "#     код функции "
   ]
  },
  {
   "cell_type": "markdown",
   "metadata": {},
   "source": [
    "#### Вывод: сделай выводы по полученным графикам. Нужно ли исключать какие-то бакеты/поколения? Если да, то реализуй их исключение из выборки"
   ]
  },
  {
   "cell_type": "markdown",
   "metadata": {},
   "source": [
    "### Кривые СLO Rate в разбивке по бакетам \n",
    "\n",
    "$CLO_n$ - количество счетов, закрывшихся в месяц $n$\n",
    "\n",
    "$ACT_{n-1}$ - количество активных счетов (в просрочке 0-3) в месяц $n-1$\n",
    "\n",
    "## $$ CLO Rate_n = \\frac{\\#CLO_n}{\\#Act_{n-1}} $$\n",
    "\n",
    "Реализуй функцию, которая отрисовывает винтажи CLO rate в разбивке по бакетам"
   ]
  },
  {
   "cell_type": "code",
   "execution_count": 11,
   "metadata": {},
   "outputs": [],
   "source": [
    "def plot_clo_rate_by_generation():\n",
    "#     код функции"
   ]
  },
  {
   "cell_type": "markdown",
   "metadata": {},
   "source": [
    "#### Выводы: сделай выводы по полученным графикам\n",
    "\n",
    "### Особые точки (0.5 баллов) \n",
    "#### Есть ли в винтажах особые точки? Укажи их. Какова их природа? Нужно ли их исключать?\n",
    "\n"
   ]
  },
  {
   "cell_type": "markdown",
   "metadata": {},
   "source": [
    "### Среднее по бакетам (1 балл)\n",
    "Выбери один из способой нахождение средней кривой (возможные способы указаны в лекции). Обоснуй свой выбор.\n",
    "\n",
    "Реализуй функцию построения среднего."
   ]
  },
  {
   "cell_type": "code",
   "execution_count": 12,
   "metadata": {},
   "outputs": [],
   "source": [
    "# Реализация расчета среднего\n",
    "\n",
    "#     код здесь\n",
    "\n",
    "# Построй графики винтажей и среднего\n",
    "\n",
    "def plot_clo_rate_mean():\n",
    "#     код функции"
   ]
  },
  {
   "cell_type": "markdown",
   "metadata": {},
   "source": [
    "### Сглаживание средних кривых (2 балла)\n",
    "\n",
    "Рассмотри несколько функций для сглаживания кривой (можешь взять готовые из семинара, либо реализовать свои)."
   ]
  },
  {
   "cell_type": "code",
   "execution_count": 13,
   "metadata": {},
   "outputs": [],
   "source": [
    "def approximation():\n",
    "#     код функции"
   ]
  },
  {
   "cell_type": "markdown",
   "metadata": {},
   "source": [
    "#### Вывод: укажи выбранную функцию и обоснуй свой выбор. Были ли точки, к которым не применил сглаживание? Почему?"
   ]
  },
  {
   "cell_type": "markdown",
   "metadata": {},
   "source": [
    "### Отрисуй сглаженные кривые по всем трем бакетам PD"
   ]
  },
  {
   "cell_type": "code",
   "execution_count": 14,
   "metadata": {},
   "outputs": [],
   "source": [
    "# код здесь"
   ]
  },
  {
   "cell_type": "markdown",
   "metadata": {},
   "source": [
    "## (Задача со звездочкой) \n",
    "## Макроэкономические воздействие (4 балла)\n",
    "\n",
    "#### Есть ли в винтажах CLO rate макроэкономическое воздействие? Если да, то предположи какое событие его вызвало и почему?\n",
    "#### В случае наличия внешнего влияния \n",
    "#### 1) Разложи кривые на внешнее воздействие и созревание кривых\n",
    "#### 2) Отрисуй график внешнего воздествия\n",
    "#### 3) Отрисуй вычищенные винтажи Clo rate в разбивке по бакетам\n",
    "#### 4) Посчитай среднее для этих бакетов и реализуй сглаживание"
   ]
  },
  {
   "cell_type": "code",
   "execution_count": null,
   "metadata": {},
   "outputs": [],
   "source": []
  }
 ],
 "metadata": {
  "kernelspec": {
   "display_name": "Python 3",
   "language": "python",
   "name": "python3"
  },
  "language_info": {
   "codemirror_mode": {
    "name": "ipython",
    "version": 3
   },
   "file_extension": ".py",
   "mimetype": "text/x-python",
   "name": "python",
   "nbconvert_exporter": "python",
   "pygments_lexer": "ipython3",
   "version": "3.7.3"
  }
 },
 "nbformat": 4,
 "nbformat_minor": 2
}
