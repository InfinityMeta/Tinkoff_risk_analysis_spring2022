{
 "cells": [
  {
   "cell_type": "markdown",
   "id": "verified-polls",
   "metadata": {},
   "source": [
    "## Домашнее задание"
   ]
  },
  {
   "cell_type": "code",
   "execution_count": 2,
   "id": "falling-peripheral",
   "metadata": {},
   "outputs": [],
   "source": [
    "from sklearn.linear_model import LogisticRegression\n",
    "\n",
    "import matplotlib.pyplot as plt\n",
    "import seaborn as sns\n",
    "import numpy as np\n",
    "import pandas as pd\n",
    "\n",
    "sns.set(font_scale=1.5, style='whitegrid')"
   ]
  },
  {
   "cell_type": "markdown",
   "id": "adult-ballot",
   "metadata": {},
   "source": [
    "Задание просто: завершить работу с датасетом, который был на семинаре.\n",
    "\n",
    "Вещественные переменные:\n",
    "1. BMI - индекс массы\n",
    "2. PhysicalHealth - сколько из последних 30 дней пациент чувствовал себя плохо\n",
    "3. MentalHealth - сколько из последних 30 дней пациент чувствовал себя плохо физически\n",
    "4. SleepTime - сколько спит в день\n",
    "\n",
    "\n",
    "Бинарные переменные:\n",
    "1. Smoking - выкурил ли человек за жизнь 100 сигарет\n",
    "2. AlcoholDrinking - для мужчин: пьет 14 напитков в неделю, для женщин - больше 7\n",
    "3. Stroke - был ли инсульт\n",
    "4. DiffWalking - есть ли сложности с ходьбой или поднятием по лестнице\n",
    "5. Sex - Male / Female\n",
    "6. PhysicalActivity - в последние 30 дней занимались спортом больше, чем основной работой\n",
    "7. Asthma - есть/была астма\n",
    "8. KidneyDisease - были ли болезни почек (кроме камней, ...)\n",
    "9. SkinCancer - был ли рак кожи\n",
    "\n",
    "Категориальные переменные:\n",
    "1. AgeCategory - возраст\n",
    "2. Race - раса\n",
    "3. Diabetic - есть/был диабет (Yes / No / ...)\n",
    "5. GenHealth - как пациент оценивает свое здоровье\n",
    "\n",
    "Таргет - HeartDisease - была ли ишемическая болезнь сердца либо инфаркт миокарда"
   ]
  },
  {
   "cell_type": "code",
   "execution_count": 3,
   "id": "expressed-uncertainty",
   "metadata": {},
   "outputs": [],
   "source": [
    "train = pd.read_csv('./train.csv')\n",
    "data_train = train.iloc[:, 1:]\n",
    "target_train = train.iloc[:, 0]\n",
    "\n",
    "val = pd.read_csv('./val.csv')\n",
    "data_val = val.iloc[:, 1:]\n",
    "target_val = val.iloc[:, 0]\n",
    "\n",
    "test = pd.read_csv('./test.csv')\n",
    "data_test = test.iloc[:, 1:]\n",
    "target_test = test.iloc[:, 0]"
   ]
  },
  {
   "cell_type": "markdown",
   "id": "321e4c91",
   "metadata": {},
   "source": [
    "**Напоминание:** На тестовой выборке только считаем итоговое качество. До этого ее использовать нельзя"
   ]
  },
  {
   "cell_type": "markdown",
   "id": "fd58a039",
   "metadata": {},
   "source": [
    "Посмотрите, в каких признаках есть пропуски. В дальнейшем их придётся изучить подробнее."
   ]
  },
  {
   "cell_type": "code",
   "execution_count": null,
   "id": "de362170",
   "metadata": {},
   "outputs": [],
   "source": [
    "<...>"
   ]
  },
  {
   "cell_type": "markdown",
   "id": "1588cdb5",
   "metadata": {},
   "source": [
    "Подумайте, какой природы могут быть пропуски. Возможно, описание признаков в этом поможет:)"
   ]
  },
  {
   "cell_type": "markdown",
   "id": "f01a74a4",
   "metadata": {},
   "source": [
    "Проведите первичную обработку признаков и таргета (для работы с sklearn таргет должен быть числом)"
   ]
  },
  {
   "cell_type": "code",
   "execution_count": null,
   "id": "4a54d3f6",
   "metadata": {},
   "outputs": [],
   "source": [
    "<...>"
   ]
  },
  {
   "cell_type": "markdown",
   "id": "1fc1ad8e",
   "metadata": {},
   "source": [
    "### 1. WoE line\n",
    "\n",
    "На семинаре использовалась готовая реализация для визуализации WoE. Здесь вам предстоит написать свою.\n",
    "Для того, чтобы свериться, можно посмотреть на готовые реализации, в открытом доступе они есть.\n",
    "\n",
    "Напомним формулу для оценки WoE:\n",
    "$$\n",
    "\\operatorname{WoE}(x) = \\ln\\frac{\\#\\{\\text{признак } = x \\land Y = 1\\}}{\\#\\{\\text{признак } = x \\land Y = 0\\}} - \\ln\\frac{\\#\\{Y = 1\\}}{\\#\\{ Y = 0\\}}\n",
    "$$\n",
    "\n",
    "Для применения формулы потребуется дискретизовать вещественные признаки. Это можно делать с помощью функции ниже. Также могут пригодиться функции [pandas.cut](https://pandas.pydata.org/docs/reference/api/pandas.cut.html) или [pandas.qcut](https://pandas.pydata.org/docs/reference/api/pandas.qcut.html)."
   ]
  },
  {
   "cell_type": "code",
   "execution_count": null,
   "id": "94ac8999",
   "metadata": {},
   "outputs": [],
   "source": [
    "def make_bucket(feature, n=100):\n",
    "    '''функция, бьющая на бакеты(по умолчанию 100 точек)'''\n",
    "    return df.assign(bucket = np.ceil(feature.rank(pct=True) * n))"
   ]
  },
  {
   "cell_type": "code",
   "execution_count": null,
   "id": "3f4fe9d4",
   "metadata": {},
   "outputs": [],
   "source": [
    "def woe_line(x, y, n_buckets=..., feature_name, target_name):\n",
    "    \"\"\" Строит график зависимости WoE\n",
    "    x - параметр, от которого стоит искать зависимость\n",
    "    y - метки класса (0 / 1)\n",
    "    n_buckets - количество бинов для вещественного признака\n",
    "    feature_name, target_name - подписи к графику\n",
    "    \"\"\"\n",
    "    \n",
    "    <...>"
   ]
  },
  {
   "cell_type": "markdown",
   "id": "b1a15849",
   "metadata": {},
   "source": [
    "**Bonus:** Можно дополнить функционал. Например, считать внутри функции IV или точку, в которой WoE равно 0."
   ]
  },
  {
   "cell_type": "markdown",
   "id": "0428ba59",
   "metadata": {},
   "source": [
    "### 2. Линеаризация признаков\n",
    "\n",
    "Исследуйте зависимость от вещественных признаков для обучающей выборки. Это удобно делать на участке, где признак определен. При необходимости (а она, конечно, будет) произведите преобразования признаков"
   ]
  },
  {
   "cell_type": "code",
   "execution_count": null,
   "id": "cc5a64c6",
   "metadata": {},
   "outputs": [],
   "source": [
    "woe_line(...)"
   ]
  },
  {
   "cell_type": "code",
   "execution_count": null,
   "id": "1bb380b2",
   "metadata": {},
   "outputs": [],
   "source": [
    "<...>"
   ]
  },
  {
   "cell_type": "markdown",
   "id": "74b74d3a",
   "metadata": {},
   "source": [
    "Для конечного преобразования признаков удобно написать функцию, ведь преобразования для всех трех выборок должны быть одинаковыми:"
   ]
  },
  {
   "cell_type": "code",
   "execution_count": null,
   "id": "6eb44d6c",
   "metadata": {},
   "outputs": [],
   "source": [
    "def linearize_features(sample):\n",
    "    \"\"\" Принимает pd.DataFrame и линеаризует вещественные фичи из него\n",
    "    \"\"\"\n",
    "    out = pd.DataFrame()\n",
    "    out['BMI_linearized'] = ...\n",
    "    <...>\n",
    "    \n",
    "    return out"
   ]
  },
  {
   "cell_type": "markdown",
   "id": "829b50c3",
   "metadata": {},
   "source": [
    "### 3. Категориальные признаки\n",
    "\n",
    "Обработайте категориальные признаки, в которых нет пропусков (здесь же можно обработать и бинарные признаки, если не сделали этого ранее). Можно пользоваться кодом из семинара"
   ]
  },
  {
   "cell_type": "code",
   "execution_count": null,
   "id": "0ecfe5f7",
   "metadata": {},
   "outputs": [],
   "source": [
    "<...>"
   ]
  },
  {
   "cell_type": "markdown",
   "id": "7dd7dd4d",
   "metadata": {},
   "source": [
    "### 4. Обработка пропусков\n",
    "\n",
    "Некоторые признаки, как вещественные, так и категориальные, имеют пропуски. Подумайте над природой пропусков и исходя из этого обработайте их.\n",
    "\n",
    "**Важно:**\n",
    "1. Не факт, что добавлять везде флаг пропуска хорошо. Это может сильно увеличить число переменных, а данных для обучения модели на флаге может быть и недостаточно.\n",
    "2. Возможно, некоторые значения признаков стоит проинтерпретировать как пропуски. С этим можно поэкспериментировать"
   ]
  },
  {
   "cell_type": "code",
   "execution_count": null,
   "id": "1b0d6a53",
   "metadata": {},
   "outputs": [],
   "source": [
    "<...>"
   ]
  },
  {
   "cell_type": "markdown",
   "id": "090c7340",
   "metadata": {},
   "source": [
    "### 5. Обучение модели\n",
    "\n",
    "Обучите [LogisticRegression](https://scikit-learn.org/stable/modules/generated/sklearn.linear_model.LogisticRegression.html) на обучающей выборке"
   ]
  },
  {
   "cell_type": "code",
   "execution_count": null,
   "id": "aff267a8",
   "metadata": {},
   "outputs": [],
   "source": [
    "<...>\n",
    "model = LogisticRegression(penalty='none')\n",
    "model.fit(X_train, y_train)"
   ]
  },
  {
   "cell_type": "markdown",
   "id": "9b07460e",
   "metadata": {},
   "source": [
    "Посчитайте предсказания на валидационной выборке. Можно пользоваться кодом из семинара"
   ]
  },
  {
   "cell_type": "code",
   "execution_count": null,
   "id": "dea6b1ee",
   "metadata": {},
   "outputs": [],
   "source": [
    "pred_val = ..."
   ]
  },
  {
   "cell_type": "markdown",
   "id": "60730802",
   "metadata": {},
   "source": [
    "Постройте ROC кривую для валидационной выборки и посчитайте ROC AUC. Можно воспользоваться кодом из семинара или реализацией в sklearn ([ROC кривая](https://scikit-learn.org/stable/modules/generated/sklearn.metrics.roc_curve.html), [ROC AUC](https://scikit-learn.org/stable/modules/generated/sklearn.metrics.roc_auc_score.html))."
   ]
  },
  {
   "cell_type": "code",
   "execution_count": null,
   "id": "7df09367",
   "metadata": {},
   "outputs": [],
   "source": [
    "<...>"
   ]
  },
  {
   "cell_type": "markdown",
   "id": "7b569575",
   "metadata": {},
   "source": [
    "Попробуйте также обучить не на всех признаках (например, можно взять N признаков с самым большим IV). Более подробно про отбор признаков будет рассказано в дальнейшем"
   ]
  },
  {
   "cell_type": "code",
   "execution_count": null,
   "id": "55ba4a3c",
   "metadata": {},
   "outputs": [],
   "source": [
    "<...>"
   ]
  },
  {
   "cell_type": "markdown",
   "id": "6a3c4398",
   "metadata": {},
   "source": [
    "### 6. Измерение качества на тестовой выборке\n",
    "\n",
    "Выберите какую-то из моделей, которые вы обучили раннее, и посчитайте ее предсказания на тестовой выборке."
   ]
  },
  {
   "cell_type": "code",
   "execution_count": null,
   "id": "179ee0e4",
   "metadata": {},
   "outputs": [],
   "source": [
    "<...>"
   ]
  }
 ],
 "metadata": {
  "kernelspec": {
   "display_name": "Python 3",
   "language": "python",
   "name": "python3"
  },
  "language_info": {
   "codemirror_mode": {
    "name": "ipython",
    "version": 3
   },
   "file_extension": ".py",
   "mimetype": "text/x-python",
   "name": "python",
   "nbconvert_exporter": "python",
   "pygments_lexer": "ipython3",
   "version": "3.8.8"
  },
  "toc": {
   "base_numbering": 1,
   "nav_menu": {},
   "number_sections": true,
   "sideBar": true,
   "skip_h1_title": false,
   "title_cell": "Table of Contents",
   "title_sidebar": "Contents",
   "toc_cell": false,
   "toc_position": {},
   "toc_section_display": true,
   "toc_window_display": false
  },
  "varInspector": {
   "cols": {
    "lenName": 16,
    "lenType": 16,
    "lenVar": 40
   },
   "kernels_config": {
    "python": {
     "delete_cmd_postfix": "",
     "delete_cmd_prefix": "del ",
     "library": "var_list.py",
     "varRefreshCmd": "print(var_dic_list())"
    },
    "r": {
     "delete_cmd_postfix": ") ",
     "delete_cmd_prefix": "rm(",
     "library": "var_list.r",
     "varRefreshCmd": "cat(var_dic_list()) "
    }
   },
   "types_to_exclude": [
    "module",
    "function",
    "builtin_function_or_method",
    "instance",
    "_Feature"
   ],
   "window_display": false
  }
 },
 "nbformat": 4,
 "nbformat_minor": 5
}
