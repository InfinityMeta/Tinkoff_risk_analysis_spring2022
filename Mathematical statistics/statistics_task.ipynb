{
 "cells": [
  {
   "cell_type": "markdown",
   "metadata": {},
   "source": [
    "# Домашнее задание"
   ]
  },
  {
   "cell_type": "markdown",
   "metadata": {},
   "source": [
    "**Дедлайн – 09.03 23:59**"
   ]
  },
  {
   "cell_type": "markdown",
   "metadata": {},
   "source": [
    "## Задача 1"
   ]
  },
  {
   "cell_type": "markdown",
   "metadata": {},
   "source": [
    "Возьем распределение Парето: $$p(x) = \\frac{k}{x^{k+1}}$$\n",
    "\n",
    "Матожидание равно $$\\mathbb E [X] = \\frac{k}{k-1},\\; k > 1$$\n",
    "\n",
    "Найдем оценку методом моментов: заменим матожидание на его приближение выборочным средним, а $k$ – на оценку $\\hat k$: $$\\overline x = \\frac{\\hat k}{\\hat k-1}$$\n",
    "\n",
    "Выражаем $\\hat k$ и получем оценку методом моментов: $$\\hat k = \\frac{\\overline x}{\\overline x - 1}$$\n",
    "\n",
    "Рассмотрим два случая: $k=1$ и $k=2$. Для каждого случая нужно\n",
    " - сгенерировать выборку из распределения Парето с данным значением параметра (размер $n=100000$)\n",
    " - построить накопленную оценку методом моментов\n",
    " - сделать вывод, сходится ли она к истинному значению параметра\n",
    "\n",
    "Перед генерацией фиксируйте сид для воспроизводимости результатов. Пример в этом ноутбуке."
   ]
  },
  {
   "cell_type": "code",
   "execution_count": null,
   "metadata": {},
   "outputs": [],
   "source": [
    "# your code here ٩(◕‿◕)۶"
   ]
  },
  {
   "cell_type": "markdown",
   "metadata": {},
   "source": [
    "## Задача 2"
   ]
  },
  {
   "cell_type": "markdown",
   "metadata": {},
   "source": [
    "Рассмотрим модель с лекции с выборкой `x = np.array([0.164, 0.395, 0.113, 0.401, 0.287, 1.757])` и экспоненциальным распределением:\n",
    "\n",
    "$$\n",
    "l(\\lambda) = n \\ln \\lambda - \\lambda \\sum_{i=1}^{n} x_i\n",
    "$$\n",
    "\n",
    "Требуется:\n",
    "\n",
    "- реализовать функцию `l_likelihood` для данной модели по аналогии с функцией для семинара.\n",
    "- построить ее график для $0 \\leq \\lambda \\leq 7$\n",
    "- оптимизировать с помощью `scipy.optimize.minimize` для выборки, данной выше, и сравнить с аналитическим решением."
   ]
  },
  {
   "cell_type": "code",
   "execution_count": null,
   "metadata": {},
   "outputs": [],
   "source": [
    "# your code here ヽ(o＾▽＾o)ノ"
   ]
  }
 ],
 "metadata": {
  "interpreter": {
   "hash": "4891386e62741abc14c5a11b0e01d12d3a0df8e3f720eb2567d2aa9094809ec0"
  },
  "kernelspec": {
   "display_name": "Python 3 (ipykernel)",
   "language": "python",
   "name": "python3"
  },
  "language_info": {
   "codemirror_mode": {
    "name": "ipython",
    "version": 3
   },
   "file_extension": ".py",
   "mimetype": "text/x-python",
   "name": "python",
   "nbconvert_exporter": "python",
   "pygments_lexer": "ipython3",
   "version": "3.9.7"
  }
 },
 "nbformat": 4,
 "nbformat_minor": 2
}
