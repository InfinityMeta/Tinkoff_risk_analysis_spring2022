{
  "nbformat": 4,
  "nbformat_minor": 0,
  "metadata": {
    "colab": {
      "provenance": [],
      "collapsed_sections": []
    },
    "kernelspec": {
      "name": "python3",
      "display_name": "Python 3"
    },
    "language_info": {
      "name": "python"
    }
  },
  "cells": [
    {
      "cell_type": "code",
      "execution_count": null,
      "metadata": {
        "id": "e_MXfZbt8ncV",
        "colab": {
          "base_uri": "https://localhost:8080/"
        },
        "outputId": "4c7c02f9-ef19-4008-9466-b9a08c8e97e4"
      },
      "outputs": [
        {
          "output_type": "stream",
          "name": "stdout",
          "text": [
            "Drive already mounted at /content/gdrive; to attempt to forcibly remount, call drive.mount(\"/content/gdrive\", force_remount=True).\n"
          ]
        }
      ],
      "source": [
        "from google.colab import drive\n",
        "drive.mount('/content/gdrive')"
      ]
    },
    {
      "cell_type": "code",
      "source": [
        "import pandas as pd\n",
        "import numpy as np\n",
        "from xgboost import XGBClassifier\n",
        "import pickle\n",
        "import matplotlib.pyplot as plt\n",
        "from ipywidgets import interactive"
      ],
      "metadata": {
        "id": "e5uonsxE9GfK"
      },
      "execution_count": null,
      "outputs": []
    },
    {
      "cell_type": "markdown",
      "source": [
        "### Препроцессинг винтажей из прошлого дз"
      ],
      "metadata": {
        "id": "Dw9HV6D-36bX"
      }
    },
    {
      "cell_type": "code",
      "source": [
        "df = pd.read_csv('/content/gdrive/My Drive/data_scores_and_features.csv')\n",
        "                                       \n",
        "data_vintages_1 = pd.read_csv('/content/gdrive/My Drive/vintages_1.csv')\n",
        "\n",
        "data_vintages_2 = pd.read_csv('/content/gdrive/My Drive/vintages_2.csv')\n",
        "\n",
        "data_vintages = pd.concat([data_vintages_1, data_vintages_2])\n",
        "\n",
        "data_vintages.dropna(subset=['user_id'])\n",
        "\n",
        "data_vintages['statement_num'].unique()\n",
        "\n",
        "data_vintages = data_vintages.drop([1246634])\n",
        "\n",
        "data_vintages['statement_num'] = data_vintages['statement_num'].apply(lambda x : int(x))\n",
        "\n",
        "df = df.drop([32506, 68471, 93755])\n",
        "\n",
        "filename = '/content/gdrive/My Drive/model.sav'\n",
        "model = pickle.load(open(filename, 'rb'))\n",
        "\n",
        "features = [\n",
        "            'max_util',\n",
        "            'soc_dem_score',\n",
        "            'other_util',\n",
        "            'last_credit_time_years',\n",
        "            'credits_4y',\n",
        "            'avg_limit_mortgage',\n",
        "            'min_limit_mfo',\n",
        "            'close_balance_amt',\n",
        "            'avg_active_time',\n",
        "]\n",
        "\n",
        "df['avg_active_time'] = df['avg_active_time'].fillna(df['avg_active_time'].median())\n",
        "df['avg_limit_mortgage'] = -df['avg_limit_mortgage']\n",
        "df['close_balance_amt'] = -df['close_balance_amt']\n",
        "df['max_util'] = df['max_util'].clip(upper=2)\n",
        "\n",
        "df['model_pd'] = model.predict_proba(df[features])[:,1]\n",
        "\n",
        "df = df.sort_values(['model_pd'], ignore_index=True)\n",
        "df['pd_bucket'] = np.minimum(df.index // (df.shape[0]//3),2)\n",
        "print(df.groupby(['pd_bucket'])['model_pd'].mean())\n",
        "\n",
        "data_vintages = data_vintages.merge(df[['user_id', 'pd_bucket', 'model_pd']], how='left', on='user_id').dropna()"
      ],
      "metadata": {
        "colab": {
          "base_uri": "https://localhost:8080/"
        },
        "id": "rt45MRqd9i1F",
        "outputId": "8b029a0b-a89f-4d8a-8572-474f0a5a2210"
      },
      "execution_count": null,
      "outputs": [
        {
          "output_type": "stream",
          "name": "stdout",
          "text": [
            "pd_bucket\n",
            "0    0.026104\n",
            "1    0.048586\n",
            "2    0.096909\n",
            "Name: model_pd, dtype: float32\n"
          ]
        }
      ]
    },
    {
      "cell_type": "code",
      "source": [
        "def polynom_approximation(df, start=1, finish=20, degree = 1, curve_type='def_rate'):\n",
        "    \"\"\"\n",
        "    Parameters\n",
        "    ----------\n",
        "\n",
        "    df : pd.DataFrame\n",
        "         датафрейм, содержащий значения кривой в стейтментах\n",
        "\n",
        "    start : int\n",
        "            стейтмент, начиная с которого производится сглаживание\n",
        "\n",
        "    finish : int\n",
        "             стейтмент, на котором заканчивается производится сглаживание\n",
        "    \n",
        "    degree : int\n",
        "             степень аппроксимирующего многочлена\n",
        "\n",
        "    curve_type : str\n",
        "                 тип кривой, к которой применяется сглаживание, из набора ['def_rate', 'dlq_ratio', 'clo_rate']\n",
        "\n",
        "    Returns\n",
        "    -------\n",
        "\n",
        "    df_res : pd.DataFrame\n",
        "             датафрейм, содержащий сглаженные значения кривой в стейтментах\n",
        "\n",
        "    \"\"\"\n",
        "    df_res = pd.DataFrame(df)\n",
        "    df_res['Полином'] = df[curve_type]                   \n",
        "    linear_coeff = np.polyfit(np.arange(start, finish+1),df.loc[start:finish, curve_type], degree)  \n",
        "    linear_coeff = np.poly1d(linear_coeff)                                                 \n",
        "    df_res.loc[start:finish, 'Полином'] = linear_coeff(np.arange(start, finish+1)) \n",
        "    df_res.loc[finish+1:, 'Полином'] = linear_coeff(finish+1)                    \n",
        "    return df_res"
      ],
      "metadata": {
        "id": "Msb_VN-vf781"
      },
      "execution_count": null,
      "outputs": []
    },
    {
      "cell_type": "code",
      "source": [
        "def linear_interpolation(curve_1, curve_2, score_1_mean, score_2_mean, score):\n",
        "  \"\"\"\n",
        "  Parameters\n",
        "  ----------\n",
        "\n",
        "  curve_1 : np.array\n",
        "            значения в стейтментах кривой, для которой средний score в бакете ограничивает интерполируемый score снизу\n",
        "  \n",
        "  curve_2 : np.array\n",
        "            значения в стейтментах кривой, для которой средний score в бакете ограничивает интерполируемый score сверху\n",
        "\n",
        "  score_1_mean : float\n",
        "                 средний score в бакете, ограничивающий интерполируемый score снизу\n",
        "\n",
        "  score_2_mean : float\n",
        "                 средний score в бакете, ограничивающий интерполируемый score сверху\n",
        "\n",
        "  score : float \n",
        "          интерполируемый score\n",
        "\n",
        "  Returns\n",
        "  -------\n",
        "\n",
        "  score_curve : np.array\n",
        "                значения в стейтментах кривой для интерполируемого score\n",
        "  \"\"\"\n",
        "  score_curve = np.zeros(25)\n",
        "  for i in range(1, 25):\n",
        "    score_curve[i] = curve_1[i-1] + (score-score_1_mean)*(curve_2[i-1]-curve_1[i-1])/(score_2_mean-score_1_mean)\n",
        "  return score_curve"
      ],
      "metadata": {
        "id": "WE2HUBUZhZ_Q"
      },
      "execution_count": null,
      "outputs": []
    },
    {
      "cell_type": "markdown",
      "source": [
        "### Для pd = 5 % для интерполяции будем использовать 1 и 2 бакеты"
      ],
      "metadata": {
        "id": "7QZ_9kzU4Kyf"
      }
    },
    {
      "cell_type": "markdown",
      "source": [
        "### Также, чтобы построить диаграмму изменения PV, нам нужно построить кривые при pd = 4 % и pd = 6 % "
      ],
      "metadata": {
        "id": "lIxRyNpuH2-g"
      }
    },
    {
      "cell_type": "markdown",
      "source": [
        "### Кривая def rate"
      ],
      "metadata": {
        "id": "0HHzXG7aQgvU"
      }
    },
    {
      "cell_type": "code",
      "source": [
        "data_vintages = data_vintages.eval('def_new_flg = def_flg * prev_act_flg', inplace=False)\n",
        "\n",
        "def_vintages = data_vintages.groupby(['pd_bucket', \"statement_num\"])\\\n",
        "            .agg({\"def_new_flg\":np.sum, \"prev_act_flg\":np.sum})\\\n",
        "            .rename(columns = ({\"def_new_flg\":'def_cnt', \"prev_act_flg\":'prev_act_cnt'}))\\\n",
        "            .eval('def_rate = def_cnt / prev_act_cnt', inplace=False)\n",
        "\n",
        "pd_1_mean =df.groupby(['pd_bucket'])['model_pd'].mean()[1]\n",
        "\n",
        "pd_2_mean =df.groupby(['pd_bucket'])['model_pd'].mean()[2]\n",
        "\n",
        "def_1_bucket = def_vintages.query('pd_bucket == 1').reset_index().set_index(['statement_num'])\n",
        "\n",
        "def_2_bucket = def_vintages.query('pd_bucket == 2').reset_index().set_index(['statement_num'])\n",
        "\n",
        "def_polynom_1 = polynom_approximation(def_1_bucket, 5,24,2)\n",
        "\n",
        "def_polynom_2 = polynom_approximation(def_2_bucket, 5,24,2)"
      ],
      "metadata": {
        "id": "wr37xlR24iFn"
      },
      "execution_count": null,
      "outputs": []
    },
    {
      "cell_type": "markdown",
      "source": [
        "#### pd = 5"
      ],
      "metadata": {
        "id": "KUSGUYbXJFg0"
      }
    },
    {
      "cell_type": "code",
      "source": [
        "def_curve_pd_5 = linear_interpolation(np.array(def_polynom_1['Полином']), np.array(def_polynom_2['Полином']), pd_1_mean, pd_2_mean, 0.05)\n",
        "\n",
        "for i, def_rate in enumerate(def_curve_pd_5):\n",
        "  print(f\"def rate for statement {i} = {def_rate * 100} %\")"
      ],
      "metadata": {
        "colab": {
          "base_uri": "https://localhost:8080/"
        },
        "id": "ezot1ldRJLMe",
        "outputId": "58620db8-aa05-4221-e927-dcaeab17c197"
      },
      "execution_count": null,
      "outputs": [
        {
          "output_type": "stream",
          "name": "stdout",
          "text": [
            "def rate for statement 0 = 0.0 %\n",
            "def rate for statement 1 = 0.0 %\n",
            "def rate for statement 2 = 0.0 %\n",
            "def rate for statement 3 = 0.0 %\n",
            "def rate for statement 4 = 2.498287992323106 %\n",
            "def rate for statement 5 = 0.48803983239302845 %\n",
            "def rate for statement 6 = 0.5571066354681323 %\n",
            "def rate for statement 7 = 0.6201451804014636 %\n",
            "def rate for statement 8 = 0.6771554671930227 %\n",
            "def rate for statement 9 = 0.7281374958428093 %\n",
            "def rate for statement 10 = 0.7730912663508233 %\n",
            "def rate for statement 11 = 0.8120167787170651 %\n",
            "def rate for statement 12 = 0.8449140329415344 %\n",
            "def rate for statement 13 = 0.8717830290242314 %\n",
            "def rate for statement 14 = 0.8926237669651558 %\n",
            "def rate for statement 15 = 0.907436246764308 %\n",
            "def rate for statement 16 = 0.9162204684216876 %\n",
            "def rate for statement 17 = 0.918976431937295 %\n",
            "def rate for statement 18 = 0.9157041373111299 %\n",
            "def rate for statement 19 = 0.906403584543192 %\n",
            "def rate for statement 20 = 0.8910747736334821 %\n",
            "def rate for statement 21 = 0.8697177045819997 %\n",
            "def rate for statement 22 = 0.8423323773887449 %\n",
            "def rate for statement 23 = 0.8089187920537175 %\n",
            "def rate for statement 24 = 0.7694769485769181 %\n"
          ]
        }
      ]
    },
    {
      "cell_type": "markdown",
      "source": [
        "#### pd = 4"
      ],
      "metadata": {
        "id": "d-WARid7I0jp"
      }
    },
    {
      "cell_type": "code",
      "source": [
        "def_curve_pd_4 = linear_interpolation(np.array(def_polynom_1['Полином']), np.array(def_polynom_2['Полином']), pd_1_mean, pd_2_mean, 0.04)\n",
        "\n",
        "for i, def_rate in enumerate(def_curve_pd_4):\n",
        "  print(f\"def rate for statement {i} = {def_rate * 100} %\")"
      ],
      "metadata": {
        "colab": {
          "base_uri": "https://localhost:8080/"
        },
        "id": "EyOZFB_kIzl-",
        "outputId": "ea1fea93-8195-4fec-c57d-5223ecfb3c9c"
      },
      "execution_count": null,
      "outputs": [
        {
          "output_type": "stream",
          "name": "stdout",
          "text": [
            "def rate for statement 0 = 0.0 %\n",
            "def rate for statement 1 = 0.0 %\n",
            "def rate for statement 2 = 0.0 %\n",
            "def rate for statement 3 = 0.0 %\n",
            "def rate for statement 4 = 2.343649210661973 %\n",
            "def rate for statement 5 = 0.3894177660335274 %\n",
            "def rate for statement 6 = 0.45412520216568475 %\n",
            "def rate for statement 7 = 0.5132469254701275 %\n",
            "def rate for statement 8 = 0.5667829359468561 %\n",
            "def rate for statement 9 = 0.6147332335958705 %\n",
            "def rate for statement 10 = 0.6570978184171702 %\n",
            "def rate for statement 11 = 0.6938766904107557 %\n",
            "def rate for statement 12 = 0.725069849576627 %\n",
            "def rate for statement 13 = 0.7506772959147837 %\n",
            "def rate for statement 14 = 0.7706990294252261 %\n",
            "def rate for statement 15 = 0.7851350501079543 %\n",
            "def rate for statement 16 = 0.7939853579629678 %\n",
            "def rate for statement 17 = 0.7972499529902671 %\n",
            "def rate for statement 18 = 0.7949288351898521 %\n",
            "def rate for statement 19 = 0.7870220045617226 %\n",
            "def rate for statement 20 = 0.7735294611058788 %\n",
            "def rate for statement 21 = 0.7544512048223208 %\n",
            "def rate for statement 22 = 0.7297872357110482 %\n",
            "def rate for statement 23 = 0.6995375537720614 %\n",
            "def rate for statement 24 = 0.6637021590053603 %\n"
          ]
        }
      ]
    },
    {
      "cell_type": "markdown",
      "source": [
        "#### pd = 6"
      ],
      "metadata": {
        "id": "het4SHurJtpX"
      }
    },
    {
      "cell_type": "code",
      "source": [
        "def_curve_pd_6 = linear_interpolation(np.array(def_polynom_1['Полином']), np.array(def_polynom_2['Полином']), pd_1_mean, pd_2_mean, 0.06)\n",
        "\n",
        "for i, def_rate in enumerate(def_curve_pd_6):\n",
        "  print(f\"def rate for statement {i} = {def_rate * 100} %\")"
      ],
      "metadata": {
        "colab": {
          "base_uri": "https://localhost:8080/"
        },
        "id": "Ve4uCj_hJ2gF",
        "outputId": "e34f2173-cbd1-4c47-de13-35e6081f20d9"
      },
      "execution_count": null,
      "outputs": [
        {
          "output_type": "stream",
          "name": "stdout",
          "text": [
            "def rate for statement 0 = 0.0 %\n",
            "def rate for statement 1 = 0.0 %\n",
            "def rate for statement 2 = 0.0 %\n",
            "def rate for statement 3 = 0.0 %\n",
            "def rate for statement 4 = 2.6529267739842393 %\n",
            "def rate for statement 5 = 0.5866618987525295 %\n",
            "def rate for statement 6 = 0.6600880687705799 %\n",
            "def rate for statement 7 = 0.7270434353327996 %\n",
            "def rate for statement 8 = 0.787527998439189 %\n",
            "def rate for statement 9 = 0.8415417580897481 %\n",
            "def rate for statement 10 = 0.8890847142844764 %\n",
            "def rate for statement 11 = 0.9301568670233743 %\n",
            "def rate for statement 12 = 0.964758216306442 %\n",
            "def rate for statement 13 = 0.992888762133679 %\n",
            "def rate for statement 14 = 1.0145485045050855 %\n",
            "def rate for statement 15 = 1.0297374434206616 %\n",
            "def rate for statement 16 = 1.0384555788804073 %\n",
            "def rate for statement 17 = 1.0407029108843227 %\n",
            "def rate for statement 18 = 1.0364794394324073 %\n",
            "def rate for statement 19 = 1.0257851645246614 %\n",
            "def rate for statement 20 = 1.0086200861610852 %\n",
            "def rate for statement 21 = 0.9849842043416785 %\n",
            "def rate for statement 22 = 0.9548775190664414 %\n",
            "def rate for statement 23 = 0.9183000303353738 %\n",
            "def rate for statement 24 = 0.8752517381484758 %\n"
          ]
        }
      ]
    },
    {
      "cell_type": "markdown",
      "source": [
        "### DLQ Ratio"
      ],
      "metadata": {
        "id": "DsujCPuNQ5HI"
      }
    },
    {
      "cell_type": "code",
      "source": [
        "dlq_vintages = data_vintages.groupby(['pd_bucket', \"statement_num\"])\\\n",
        "            .agg({\"dlq_flg\":np.sum, \"act_flg\":np.sum})\\\n",
        "            .rename(columns = ({\"dlq_flg\":'dlq_cnt', \"act_flg\":'act_cnt'}))\\\n",
        "            .eval('dlq_ratio = dlq_cnt / act_cnt', inplace=False)\n",
        "\n",
        "dlq_1_bucket = dlq_vintages.query('pd_bucket == 1').reset_index().set_index(['statement_num'])\n",
        "\n",
        "dlq_2_bucket = dlq_vintages.query('pd_bucket == 2').reset_index().set_index(['statement_num'])\n",
        "\n",
        "dlq_polynom_1 = polynom_approximation(dlq_1_bucket,4,22,2,'dlq_ratio')\n",
        "\n",
        "dlq_polynom_2 = polynom_approximation(dlq_2_bucket, 4,22,2,'dlq_ratio')"
      ],
      "metadata": {
        "id": "n7bcTIJGQyvw"
      },
      "execution_count": null,
      "outputs": []
    },
    {
      "cell_type": "markdown",
      "source": [
        "#### pd = 5"
      ],
      "metadata": {
        "id": "gSXtGAkFJ-Yr"
      }
    },
    {
      "cell_type": "code",
      "source": [
        "dlq_curve_pd_5 = linear_interpolation(np.array(dlq_polynom_1['Полином']), np.array(dlq_polynom_2['Полином']), pd_1_mean, pd_2_mean, 0.05)\n",
        "\n",
        "for i, dlq in enumerate(dlq_curve_pd_5):\n",
        "  print(f\"dlq ratio for statement {i} = {dlq * 100} %\")"
      ],
      "metadata": {
        "colab": {
          "base_uri": "https://localhost:8080/"
        },
        "id": "fielYIpsKBTg",
        "outputId": "5ab154db-54f1-4f33-9371-3b8b99d45520"
      },
      "execution_count": null,
      "outputs": [
        {
          "output_type": "stream",
          "name": "stdout",
          "text": [
            "dlq ratio for statement 0 = 0.0 %\n",
            "dlq ratio for statement 1 = 7.5868618784402955 %\n",
            "dlq ratio for statement 2 = 8.80551094535839 %\n",
            "dlq ratio for statement 3 = 9.782699880737974 %\n",
            "dlq ratio for statement 4 = 8.400802999223357 %\n",
            "dlq ratio for statement 5 = 9.020824741829804 %\n",
            "dlq ratio for statement 6 = 9.603893427226645 %\n",
            "dlq ratio for statement 7 = 10.150009055413872 %\n",
            "dlq ratio for statement 8 = 10.659171626391496 %\n",
            "dlq ratio for statement 9 = 11.131381140159512 %\n",
            "dlq ratio for statement 10 = 11.566637596717916 %\n",
            "dlq ratio for statement 11 = 11.964940996066716 %\n",
            "dlq ratio for statement 12 = 12.326291338205907 %\n",
            "dlq ratio for statement 13 = 12.650688623135492 %\n",
            "dlq ratio for statement 14 = 12.938132850855466 %\n",
            "dlq ratio for statement 15 = 13.188624021365833 %\n",
            "dlq ratio for statement 16 = 13.402162134666593 %\n",
            "dlq ratio for statement 17 = 13.578747190757745 %\n",
            "dlq ratio for statement 18 = 13.718379189639288 %\n",
            "dlq ratio for statement 19 = 13.821058131311226 %\n",
            "dlq ratio for statement 20 = 13.886784015773554 %\n",
            "dlq ratio for statement 21 = 13.915556843026275 %\n",
            "dlq ratio for statement 22 = 13.907376613069388 %\n",
            "dlq ratio for statement 23 = 13.862243325902893 %\n",
            "dlq ratio for statement 24 = 13.862243325902893 %\n"
          ]
        }
      ]
    },
    {
      "cell_type": "markdown",
      "source": [
        "#### pd = 4"
      ],
      "metadata": {
        "id": "A8HbKH_AKLiU"
      }
    },
    {
      "cell_type": "code",
      "source": [
        "dlq_curve_pd_4 = linear_interpolation(np.array(dlq_polynom_1['Полином']), np.array(dlq_polynom_2['Полином']), pd_1_mean, pd_2_mean, 0.04)\n",
        "\n",
        "for i, dlq in enumerate(dlq_curve_pd_4):\n",
        "  print(f\"dlq ratio for statement {i} = {dlq * 100} %\")"
      ],
      "metadata": {
        "colab": {
          "base_uri": "https://localhost:8080/"
        },
        "id": "7fsUQR8vKNNl",
        "outputId": "18eafb0b-789b-4fa8-d17e-d23d46718558"
      },
      "execution_count": null,
      "outputs": [
        {
          "output_type": "stream",
          "name": "stdout",
          "text": [
            "dlq ratio for statement 0 = 0.0 %\n",
            "dlq ratio for statement 1 = 7.2425007913315 %\n",
            "dlq ratio for statement 2 = 8.408135517173172 %\n",
            "dlq ratio for statement 3 = 9.26680351560585 %\n",
            "dlq ratio for statement 4 = 7.764261851569948 %\n",
            "dlq ratio for statement 5 = 8.350510646239956 %\n",
            "dlq ratio for statement 6 = 8.902815468233747 %\n",
            "dlq ratio for statement 7 = 9.42117631755132 %\n",
            "dlq ratio for statement 8 = 9.905593194192676 %\n",
            "dlq ratio for statement 9 = 10.356066098157815 %\n",
            "dlq ratio for statement 10 = 10.772595029446732 %\n",
            "dlq ratio for statement 11 = 11.155179988059436 %\n",
            "dlq ratio for statement 12 = 11.503820973995921 %\n",
            "dlq ratio for statement 13 = 11.81851798725619 %\n",
            "dlq ratio for statement 14 = 12.099271027840242 %\n",
            "dlq ratio for statement 15 = 12.346080095748073 %\n",
            "dlq ratio for statement 16 = 12.55894519097969 %\n",
            "dlq ratio for statement 17 = 12.737866313535088 %\n",
            "dlq ratio for statement 18 = 12.882843463414268 %\n",
            "dlq ratio for statement 19 = 12.993876640617227 %\n",
            "dlq ratio for statement 20 = 13.070965845143975 %\n",
            "dlq ratio for statement 21 = 13.114111076994503 %\n",
            "dlq ratio for statement 22 = 13.123312336168816 %\n",
            "dlq ratio for statement 23 = 13.098569622666906 %\n",
            "dlq ratio for statement 24 = 13.098569622666906 %\n"
          ]
        }
      ]
    },
    {
      "cell_type": "markdown",
      "source": [
        "#### pd = 6"
      ],
      "metadata": {
        "id": "XiyoMUJpKfps"
      }
    },
    {
      "cell_type": "code",
      "source": [
        "dlq_curve_pd_6 = linear_interpolation(np.array(dlq_polynom_1['Полином']), np.array(dlq_polynom_2['Полином']), pd_1_mean, pd_2_mean, 0.06)\n",
        "\n",
        "for i, dlq in enumerate(dlq_curve_pd_6):\n",
        "  print(f\"dlq ratio for statement {i} = {dlq * 100} %\")"
      ],
      "metadata": {
        "colab": {
          "base_uri": "https://localhost:8080/"
        },
        "id": "SXcjh3iAKiDO",
        "outputId": "58a247e0-9826-4cb8-d965-9ccb44fea20e"
      },
      "execution_count": null,
      "outputs": [
        {
          "output_type": "stream",
          "name": "stdout",
          "text": [
            "dlq ratio for statement 0 = 0.0 %\n",
            "dlq ratio for statement 1 = 7.931222965549092 %\n",
            "dlq ratio for statement 2 = 9.202886373543608 %\n",
            "dlq ratio for statement 3 = 10.298596245870097 %\n",
            "dlq ratio for statement 4 = 9.037344146876768 %\n",
            "dlq ratio for statement 5 = 9.69113883741965 %\n",
            "dlq ratio for statement 6 = 10.304971386219538 %\n",
            "dlq ratio for statement 7 = 10.878841793276425 %\n",
            "dlq ratio for statement 8 = 11.412750058590316 %\n",
            "dlq ratio for statement 9 = 11.906696182161207 %\n",
            "dlq ratio for statement 10 = 12.360680163989098 %\n",
            "dlq ratio for statement 11 = 12.774702004073996 %\n",
            "dlq ratio for statement 12 = 13.148761702415893 %\n",
            "dlq ratio for statement 13 = 13.48285925901479 %\n",
            "dlq ratio for statement 14 = 13.776994673870691 %\n",
            "dlq ratio for statement 15 = 14.031167946983594 %\n",
            "dlq ratio for statement 16 = 14.245379078353498 %\n",
            "dlq ratio for statement 17 = 14.419628067980403 %\n",
            "dlq ratio for statement 18 = 14.553914915864311 %\n",
            "dlq ratio for statement 19 = 14.648239622005221 %\n",
            "dlq ratio for statement 20 = 14.702602186403132 %\n",
            "dlq ratio for statement 21 = 14.717002609058044 %\n",
            "dlq ratio for statement 22 = 14.691440889969961 %\n",
            "dlq ratio for statement 23 = 14.62591702913888 %\n",
            "dlq ratio for statement 24 = 14.62591702913888 %\n"
          ]
        }
      ]
    },
    {
      "cell_type": "code",
      "source": [
        "x_scores = pd.read_csv('/content/gdrive/My Drive/data_scores.csv', sep=';', decimal=',')\n",
        "\n",
        "x_scores = x_scores.sort_values(['x_score'], ignore_index=True)\n",
        "x_scores['x_bucket'] = np.minimum(x_scores.index // (df.shape[0]//3),2)\n",
        "print(x_scores.groupby(['x_bucket'])['x_score'].mean())\n",
        "\n",
        "data_vintages = data_vintages.merge(x_scores[['user_id', 'x_bucket', 'x_score']], how='left', on='user_id', suffixes=None).dropna()\n",
        "\n",
        "x_score_0_mean = x_scores.groupby(['x_bucket'])['x_score'].mean()[0]\n",
        "\n",
        "x_score_1_mean = x_scores.groupby(['x_bucket'])['x_score'].mean()[1]"
      ],
      "metadata": {
        "colab": {
          "base_uri": "https://localhost:8080/"
        },
        "id": "t-Eioq6TGA4a",
        "outputId": "6082430e-7747-4cc7-a2f0-7bae8ab576ce"
      },
      "execution_count": null,
      "outputs": [
        {
          "output_type": "stream",
          "name": "stdout",
          "text": [
            "x_bucket\n",
            "0    0.133269\n",
            "1    0.220834\n",
            "2    0.379446\n",
            "Name: x_score, dtype: float64\n"
          ]
        }
      ]
    },
    {
      "cell_type": "markdown",
      "source": [
        "### Для x_score = 15 % для интерполяции будем использовать 0 и 1 бакеты"
      ],
      "metadata": {
        "id": "4QLyYTMqG-_G"
      }
    },
    {
      "cell_type": "markdown",
      "source": [
        "### Аналогично для построения диаграммы изменения PV нам понадобятся кривые при x_score = 14 % и x_score = 16 %"
      ],
      "metadata": {
        "id": "aTmefKW7LX1G"
      }
    },
    {
      "cell_type": "code",
      "source": [
        "data_vintages = data_vintages.eval('clo_new_flg = clo_flg * prev_act_flg', inplace=False)\n",
        "\n",
        "clo_vintages = data_vintages.groupby(['x_bucket', \"statement_num\"])\\\n",
        "            .agg({\"clo_new_flg\":np.sum, \"prev_act_flg\":np.sum})\\\n",
        "            .rename(columns = ({\"clo_new_flg\":'clo_cnt', \"prev_act_flg\":'prev_act_cnt'}))\\\n",
        "            .eval('clo_rate = clo_cnt / prev_act_cnt', inplace=False)\n",
        "\n",
        "clo_0_bucket = clo_vintages.query('x_bucket == 0').reset_index().set_index(['statement_num'])\n",
        "\n",
        "clo_1_bucket = clo_vintages.query('x_bucket == 1').reset_index().set_index(['statement_num'])\n",
        "\n",
        "clo_polynom_0 = polynom_approximation(clo_0_bucket,2,24,2,'clo_rate')\n",
        "\n",
        "clo_polynom_1 = polynom_approximation(clo_1_bucket,2,24,2,'clo_rate')"
      ],
      "metadata": {
        "id": "SlWCasWg6ZzU"
      },
      "execution_count": null,
      "outputs": []
    },
    {
      "cell_type": "markdown",
      "source": [
        "#### x_score = 15 %"
      ],
      "metadata": {
        "id": "Fvz-X6QpL8gE"
      }
    },
    {
      "cell_type": "code",
      "source": [
        "clo_curve_x_score_15 = linear_interpolation(np.array(clo_polynom_0['Полином']), np.array(clo_polynom_1['Полином']), x_score_0_mean, x_score_1_mean, 0.15)\n",
        "\n",
        "for i, clo in enumerate(clo_curve_x_score_15):\n",
        "  print(f\"clo rate for statement {i} = {clo * 100} %\")"
      ],
      "metadata": {
        "colab": {
          "base_uri": "https://localhost:8080/"
        },
        "id": "ttHDjfOHL_fM",
        "outputId": "2752ba7b-43f9-47d5-ec5b-152d172ef0f7"
      },
      "execution_count": null,
      "outputs": [
        {
          "output_type": "stream",
          "name": "stdout",
          "text": [
            "clo rate for statement 0 = 0.0 %\n",
            "clo rate for statement 1 = 3.538941082782338 %\n",
            "clo rate for statement 2 = 2.2830407965409654 %\n",
            "clo rate for statement 3 = 2.3083539506010853 %\n",
            "clo rate for statement 4 = 2.338600903025087 %\n",
            "clo rate for statement 5 = 2.3737816538129715 %\n",
            "clo rate for statement 6 = 2.4138962029647386 %\n",
            "clo rate for statement 7 = 2.458944550480388 %\n",
            "clo rate for statement 8 = 2.5089266963599206 %\n",
            "clo rate for statement 9 = 2.5638426406033354 %\n",
            "clo rate for statement 10 = 2.623692383210633 %\n",
            "clo rate for statement 11 = 2.688475924181813 %\n",
            "clo rate for statement 12 = 2.7581932635168753 %\n",
            "clo rate for statement 13 = 2.832844401215821 %\n",
            "clo rate for statement 14 = 2.912429337278649 %\n",
            "clo rate for statement 15 = 2.996948071705359 %\n",
            "clo rate for statement 16 = 3.086400604495952 %\n",
            "clo rate for statement 17 = 3.1807869356504272 %\n",
            "clo rate for statement 18 = 3.280107065168786 %\n",
            "clo rate for statement 19 = 3.3843609930510263 %\n",
            "clo rate for statement 20 = 3.49354871929715 %\n",
            "clo rate for statement 21 = 3.607670243907156 %\n",
            "clo rate for statement 22 = 3.7267255668810453 %\n",
            "clo rate for statement 23 = 3.8507146882188157 %\n",
            "clo rate for statement 24 = 3.9796376079204685 %\n"
          ]
        }
      ]
    },
    {
      "cell_type": "markdown",
      "source": [
        "#### x_score = 14 %"
      ],
      "metadata": {
        "id": "RrybiyQyMIzo"
      }
    },
    {
      "cell_type": "code",
      "source": [
        "clo_curve_x_score_14 = linear_interpolation(np.array(clo_polynom_0['Полином']), np.array(clo_polynom_1['Полином']), x_score_0_mean, x_score_1_mean, 0.14)\n",
        "\n",
        "for i, clo in enumerate(clo_curve_x_score_14):\n",
        "  print(f\"clo rate for statement {i} = {clo * 100} %\")"
      ],
      "metadata": {
        "colab": {
          "base_uri": "https://localhost:8080/"
        },
        "id": "KzZrRPjeMLgc",
        "outputId": "bc15856f-e3bb-4d85-864a-e2d08f37d7f9"
      },
      "execution_count": null,
      "outputs": [
        {
          "output_type": "stream",
          "name": "stdout",
          "text": [
            "clo rate for statement 0 = 0.0 %\n",
            "clo rate for statement 1 = 3.3055083247475068 %\n",
            "clo rate for statement 2 = 2.1429764377308604 %\n",
            "clo rate for statement 3 = 2.1684996613341383 %\n",
            "clo rate for statement 4 = 2.199033778242738 %\n",
            "clo rate for statement 5 = 2.234578788456661 %\n",
            "clo rate for statement 6 = 2.275134691975906 %\n",
            "clo rate for statement 7 = 2.3207014888004736 %\n",
            "clo rate for statement 8 = 2.3712791789303638 %\n",
            "clo rate for statement 9 = 2.426867762365577 %\n",
            "clo rate for statement 10 = 2.4874672391061123 %\n",
            "clo rate for statement 11 = 2.55307760915197 %\n",
            "clo rate for statement 12 = 2.6236988725031503 %\n",
            "clo rate for statement 13 = 2.6993310291596533 %\n",
            "clo rate for statement 14 = 2.7799740791214793 %\n",
            "clo rate for statement 15 = 2.865628022388627 %\n",
            "clo rate for statement 16 = 2.9562928589610977 %\n",
            "clo rate for statement 17 = 3.051968588838891 %\n",
            "clo rate for statement 18 = 3.152655212022007 %\n",
            "clo rate for statement 19 = 3.2583527285104448 %\n",
            "clo rate for statement 20 = 3.3690611383042066 %\n",
            "clo rate for statement 21 = 3.4847804414032892 %\n",
            "clo rate for statement 22 = 3.6055106378076953 %\n",
            "clo rate for statement 23 = 3.7312517275174235 %\n",
            "clo rate for statement 24 = 3.862003710532474 %\n"
          ]
        }
      ]
    },
    {
      "cell_type": "markdown",
      "source": [
        "#### x_score = 16 %"
      ],
      "metadata": {
        "id": "L_RoVy-KMVtQ"
      }
    },
    {
      "cell_type": "code",
      "source": [
        "clo_curve_x_score_16 = linear_interpolation(np.array(clo_polynom_0['Полином']), np.array(clo_polynom_1['Полином']), x_score_0_mean, x_score_1_mean, 0.16)\n",
        "\n",
        "for i, clo in enumerate(clo_curve_x_score_16):\n",
        "  print(f\"clo rate for statement {i} = {clo * 100} %\")"
      ],
      "metadata": {
        "colab": {
          "base_uri": "https://localhost:8080/"
        },
        "id": "DRp8QyFbMh0I",
        "outputId": "9b0443d5-bf6b-44be-d708-bc1772fc4b1b"
      },
      "execution_count": null,
      "outputs": [
        {
          "output_type": "stream",
          "name": "stdout",
          "text": [
            "clo rate for statement 0 = 0.0 %\n",
            "clo rate for statement 1 = 3.7723738408171705 %\n",
            "clo rate for statement 2 = 2.423105155351071 %\n",
            "clo rate for statement 3 = 2.4482082398680327 %\n",
            "clo rate for statement 4 = 2.478168027807436 %\n",
            "clo rate for statement 5 = 2.512984519169283 %\n",
            "clo rate for statement 6 = 2.5526577139535713 %\n",
            "clo rate for statement 7 = 2.5971876121603032 %\n",
            "clo rate for statement 8 = 2.6465742137894774 %\n",
            "clo rate for statement 9 = 2.7008175188410943 %\n",
            "clo rate for statement 10 = 2.759917527315154 %\n",
            "clo rate for statement 11 = 2.8238742392116567 %\n",
            "clo rate for statement 12 = 2.8926876545306013 %\n",
            "clo rate for statement 13 = 2.966357773271989 %\n",
            "clo rate for statement 14 = 3.044884595435819 %\n",
            "clo rate for statement 15 = 3.1282681210220917 %\n",
            "clo rate for statement 16 = 3.216508350030807 %\n",
            "clo rate for statement 17 = 3.3096052824619644 %\n",
            "clo rate for statement 18 = 3.4075589183155652 %\n",
            "clo rate for statement 19 = 3.5103692575916083 %\n",
            "clo rate for statement 20 = 3.618036300290095 %\n",
            "clo rate for statement 21 = 3.730560046411023 %\n",
            "clo rate for statement 22 = 3.847940495954395 %\n",
            "clo rate for statement 23 = 3.9701776489202083 %\n",
            "clo rate for statement 24 = 4.0972715053084645 %\n"
          ]
        }
      ]
    }
  ]
}