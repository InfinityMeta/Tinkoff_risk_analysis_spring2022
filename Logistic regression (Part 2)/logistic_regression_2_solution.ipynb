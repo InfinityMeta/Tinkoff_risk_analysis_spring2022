{
  "nbformat": 4,
  "nbformat_minor": 0,
  "metadata": {
    "colab": {
      "provenance": [],
      "collapsed_sections": []
    },
    "kernelspec": {
      "name": "python3",
      "display_name": "Python 3"
    },
    "language_info": {
      "name": "python"
    }
  },
  "cells": [
    {
      "cell_type": "code",
      "execution_count": null,
      "metadata": {
        "id": "y0wuyV-uTGAu"
      },
      "outputs": [],
      "source": [
        "import pandas as pd\n",
        "import numpy as np\n",
        "import matplotlib.pyplot as plt\n",
        "import seaborn as sns\n",
        "sns.set();\n",
        "import scipy.stats as sps\n",
        "import random"
      ]
    },
    {
      "cell_type": "markdown",
      "source": [
        "Импорт и препроцессинг данных"
      ],
      "metadata": {
        "id": "yd_mpKUCF1Wj"
      }
    },
    {
      "cell_type": "code",
      "source": [
        "# выгружаем датасет\n",
        "from sklearn.datasets import fetch_openml\n",
        "mnist = fetch_openml(data_id=554) # https://www.openml.org/d/554\n",
        "# генерируем сегментирующую случайную переменую\n",
        "rn = pd.Series(sps.randint.rvs(1, 101, size = len(mnist.data), random_state = 42))\n",
        "# разбиваем на трейн/валидацию/тест\n",
        "X = mnist.data\n",
        "y = mnist.target\n",
        "train_mask, val_mask, test_mask = (rn <= 60), ((rn > 60) & (rn <= 70)), (rn > 70)\n",
        "X_train, y_train, X_test, y_test, X_val, y_val = X[train_mask], y[train_mask], X[test_mask], y[test_mask], X[val_mask], y[val_mask]"
      ],
      "metadata": {
        "id": "f1Szam5-aiwV"
      },
      "execution_count": null,
      "outputs": []
    },
    {
      "cell_type": "code",
      "source": [
        "from sklearn.preprocessing import StandardScaler\n",
        "scaler = StandardScaler()\n",
        "X_train = scaler.fit_transform(X_train)\n",
        "X_val = scaler.transform(X_val)\n",
        "X_test = scaler.transform(X_test)"
      ],
      "metadata": {
        "id": "mxduZu7abHaX"
      },
      "execution_count": null,
      "outputs": []
    },
    {
      "cell_type": "markdown",
      "source": [
        "####Бинаризуем таргет"
      ],
      "metadata": {
        "id": "Wql7ffMGF5lD"
      }
    },
    {
      "cell_type": "code",
      "source": [
        "def bin_repr(num):\n",
        "  \"\"\"\n",
        "  функция принимает целое число и возвращает его двоичное представление в нужном нам формате  \n",
        "  \"\"\"\n",
        "  bin_num = bin(num)[2:]\n",
        "  bin_num = (4 - len(bin_num)) * '0' + bin_num\n",
        "  return(bin_num)"
      ],
      "metadata": {
        "id": "bk5yAFNxjSsw"
      },
      "execution_count": null,
      "outputs": []
    },
    {
      "cell_type": "code",
      "source": [
        "def make_binary_predictors(y):\n",
        "    \"\"\"\n",
        "    Функция принимает Series y c категориальной переменной и возвращает DataFrame с бинарным представлением таргета и со столбцами из 0 и 1 для соответствующих позиций битов\n",
        "    \"\"\"\n",
        "    bin_numbers = {k:v for k, v in zip([str(i) for i in range(10)], [bin_repr(i) for i in range(10)])}\n",
        "    \n",
        "    targets = pd.DataFrame()\n",
        "    targets['target_bin'] = y.map(bin_numbers)\n",
        "    targets['target_1_bit'] = targets['target_bin'].apply(lambda x: int(x[0]))\n",
        "    targets['target_2_bit'] = targets['target_bin'].apply(lambda x: int(x[1]))\n",
        "    targets['target_3_bit'] = targets['target_bin'].apply(lambda x: int(x[2]))\n",
        "    targets['target_4_bit'] = targets['target_bin'].apply(lambda x: int(x[3]))\n",
        "\n",
        "    return(targets)"
      ],
      "metadata": {
        "id": "KYeUTLq_Ljm5"
      },
      "execution_count": null,
      "outputs": []
    },
    {
      "cell_type": "markdown",
      "source": [
        "####Подбор гиперпараметров"
      ],
      "metadata": {
        "id": "p2gErYa6YnMk"
      }
    },
    {
      "cell_type": "code",
      "source": [
        "params_dict = {\n",
        "              'C': [0.5, 1, 5],\n",
        "              'solver' : ['lbfgs', 'newton-cg']\n",
        "              }"
      ],
      "metadata": {
        "id": "FEVlygSnadcJ"
      },
      "execution_count": null,
      "outputs": []
    },
    {
      "cell_type": "code",
      "source": [
        "from sklearn.model_selection import ParameterGrid\n",
        "from sklearn.linear_model import LogisticRegression\n",
        "from sklearn.metrics import accuracy_score\n",
        "\n",
        "\n",
        "def grid_search(X_train,\n",
        "                X_val,\n",
        "                y_train,\n",
        "                y_val,\n",
        "                params_dict):\n",
        "    '''\n",
        "    Функция подбирает гиперпараметры мультиномиальной логитиеской регрессии для получения максимального значения accuracy\n",
        "    на валидационной выборке, принимает:\n",
        "    X_train -- DataFrame независимых переменных на обучающей выборке\n",
        "    X_val -- DataFrame независимых переменных на валидационной выборке\n",
        "    y_train -- Series таргета на обучающей выборке\n",
        "    y_val -- Series таргета на валидационной выборке\n",
        "    params_dict -- словарь гиперпараметров в формате {'paramater_nm':[value_1, value_2, ...]}\n",
        "    '''\n",
        "\n",
        "    best_acc = 0\n",
        "\n",
        "    keys = list(params_dict.keys())\n",
        "\n",
        "    best_params = dict.fromkeys(keys)\n",
        "\n",
        "    param_list = list(ParameterGrid(params_dict))\n",
        "\n",
        "    for cand in param_list:\n",
        "      acc = 0\n",
        "      clf = LogisticRegression(\n",
        "          penalty=cand['penalty'] if ('penalty' in cand) else 'l2',\n",
        "          dual=cand['dual'] if ('dual' in cand) else False,\n",
        "          tol=cand['tol'] if ('tol' in cand) else 1e-4,         \n",
        "          C=cand['C'] if ('C' in cand) else 1.0,\n",
        "          fit_intercept=cand['fit_intercept'] if ('fit_intercept' in cand) else True,\n",
        "          intercept_scaling=cand['intercept_scaling'] if ('intercept_scaling' in cand) else 1,\n",
        "          class_weight=cand['class_weight'] if ('class_weight' in cand) else None,\n",
        "          random_state=cand['random_state'] if ('random_state' in cand) else None,\n",
        "          solver=cand['solver'] if ('solver' in cand) else 'lbfgs',\n",
        "          max_iter=cand['max_iter'] if ('max_iter' in cand) else 1000,\n",
        "          multi_class=cand['multinomial'] if ('multinomial' in cand) else 'auto',\n",
        "          verbose=cand['verbose'] if ('verbose' in cand) else 0,\n",
        "          warm_start=cand['warm_start'] if ('warm_start' in cand) else False,\n",
        "          n_jobs=cand['n_jobs'] if ('n_jobs' in cand) else None,\n",
        "          l1_ratio=cand['l1_ratio'] if ('l1_ratio' in cand) else None,\n",
        "          )\n",
        "      clf.fit(X_train, y_train)\n",
        "      pred = clf.predict(X_val)\n",
        "      acc = accuracy_score(y_val, pred)\n",
        "      if acc > best_acc:\n",
        "        best_acc = acc\n",
        "        best_params = cand\n",
        "\n",
        "    return(best_params)\n",
        "\n",
        "\n",
        "grid_search(X_train, X_val, y_train, y_val, params_dict)"
      ],
      "metadata": {
        "id": "XF6e1WZdYsYM"
      },
      "execution_count": null,
      "outputs": []
    },
    {
      "cell_type": "code",
      "source": [
        "from sklearn.metrics import roc_auc_score\n",
        "\n",
        "#дефолтный логрес\n",
        "clf_1 = LogisticRegression(max_iter=3000)\n",
        "clf_1.fit(X_train, y_train)\n",
        "y_pred_1 = clf_1.predict(X_test)\n",
        "y_proba_1 = clf_1.predict_proba(X_test)\n",
        "acc_1 = accuracy_score(y_test, y_pred_1)\n",
        "auc_roc_1 = roc_auc_score(y_test, y_proba_1, average='macro', multi_class = 'ovr')"
      ],
      "metadata": {
        "id": "NEfip8AM1_MX"
      },
      "execution_count": null,
      "outputs": []
    },
    {
      "cell_type": "code",
      "source": [
        "#логрег с подобранными солвером и коэффициентом инверсии силы регуляризации \n",
        "clf_2 = LogisticRegression(C=0.5, solver='lbfgs', max_iter=3000)\n",
        "clf_2.fit(X_train, y_train)\n",
        "y_pred_2 = clf_2.predict(X_test)\n",
        "y_proba_2 = clf_2.predict_proba(X_test)\n",
        "acc_2 = accuracy_score(y_test, y_pred_2)\n",
        "auc_roc_2 = roc_auc_score(y_test, y_proba_2, average='macro', multi_class = 'ovr')"
      ],
      "metadata": {
        "id": "QY4p74iI5k2D"
      },
      "execution_count": null,
      "outputs": []
    },
    {
      "cell_type": "markdown",
      "source": [
        "####Бинарный классификатор"
      ],
      "metadata": {
        "id": "OgiVu1bdNbdM"
      }
    },
    {
      "cell_type": "code",
      "source": [
        "class BinarisedTargetClassifier():\n",
        "    '''\n",
        "    класс BinarisedTargetClassifier -- мультиклассовый классификатор на основании нескольких бинарных логистических регрессий\n",
        "    '''\n",
        "    def __init__(self, fit_intercept=True, max_iter=3000):\n",
        "\n",
        "        self.clf_1 = LogisticRegression(fit_intercept=fit_intercept, max_iter=max_iter)\n",
        "        self.clf_2 = LogisticRegression(fit_intercept=fit_intercept, max_iter=max_iter)\n",
        "        self.clf_3 = LogisticRegression(fit_intercept=fit_intercept, max_iter=max_iter)\n",
        "        self.clf_4 = LogisticRegression(fit_intercept=fit_intercept, max_iter=max_iter)\n",
        "\n",
        "    def fit(self, X_train, y_train):\n",
        "\n",
        "        df_train = pd.DataFrame()\n",
        "        df_train = make_binary_predictors(y_train)\n",
        "\n",
        "        self.clf_1.fit(X_train, df_train['target_1_bit'])\n",
        "        self.clf_2.fit(X_train, df_train['target_2_bit'])\n",
        "        self.clf_3.fit(X_train, df_train['target_3_bit'])\n",
        "        self.clf_4.fit(X_train, df_train['target_4_bit'])\n",
        "\n",
        "    def predict(self, X):\n",
        "        \n",
        "        #получаем предсказания для каждого бита \n",
        "        pred_1 = self.clf_1.predict(X)\n",
        "        pred_2 = self.clf_2.predict(X)\n",
        "        pred_3 = self.clf_3.predict(X)\n",
        "        pred_4 = self.clf_4.predict(X)\n",
        "\n",
        "        #объединим в двоичное число\n",
        "        size = pred_1.size\n",
        "\n",
        "        pred_bit = list()\n",
        "        for i in range(size):\n",
        "          pred_bit.append(str(pred_1[i]) + str(pred_2[i]) + str(pred_3[i]) + str(pred_4[i]))\n",
        "\n",
        "        #конвертируем в десятичное\n",
        "        pred = pd.Series([int('0b' + i, 2) for i in pred_bit])\n",
        "\n",
        "        \"\"\"\n",
        "        по факту у нас область значений предсказаний - целые числа от 0 до 15\n",
        "        я действовал по следующей логике: если предсказано число > 9, то оно\n",
        "        имеем вид: 1***, то есть модель, вероятно, хотела предсказать 8 или 9,\n",
        "        тогда я смотрю на последний бит, если он равен 0, то меняю число на 8\n",
        "        (8 = 1000), если равен 1, то меняю на 9 (9 = 1001), соответсвенно \n",
        "        заменяю по следующему правилу: 10, 12, 14 -> 8; 11, 13, 15 -> 9\n",
        "        \"\"\"\n",
        "\n",
        "        pred_transform = pred.apply(lambda x : (8 if (x % 2 == 0) else 9) if x  > 9 else x)\n",
        "\n",
        "        return pred_transform\n",
        "\n",
        "    #перемножаем вероятности для каждого бита\n",
        "    def predict_score(self, X): \n",
        "        proba_1 = self.clf_1.predict_proba(X)\n",
        "        proba_2 = self.clf_2.predict_proba(X)\n",
        "        proba_3 = self.clf_3.predict_proba(X)\n",
        "        proba_4 = self.clf_4.predict_proba(X)\n",
        "\n",
        "        proba_score = list()\n",
        "        for i, j, k, l in zip(proba_1, proba_2, proba_3, proba_4):\n",
        "          proba_element = [1] * 10\n",
        "          i_ind, j_ind, k_ind, l_ind = np.argmax(i), np.argmax(j), np.argmax(k), np.argmax(l)\n",
        "          # 1 бит\n",
        "          for n in range(8):\n",
        "              proba_element[n] = proba_element[n] * i[0]\n",
        "          for n in range(8, 10):\n",
        "              proba_element[n] = proba_element[n] * i[1]\n",
        "\n",
        "          # 2 бит\n",
        "          for n in list(range(4)) + list(range(8, 10)):\n",
        "              proba_element[n] = proba_element[n] * j[0]\n",
        "          for n in range(4, 8):\n",
        "              proba_element[n] = proba_element[n] * j[1]\n",
        "          # 3 бит\n",
        "          for n in list(range(2)) + list(range(4, 6)) + list(range(8, 10)):\n",
        "              proba_element[n] = proba_element[n] * k[0]\n",
        "          for n in list(range(2, 4)) + list(range(6, 8)):\n",
        "              proba_element[n] = proba_element[n] * k[1]\n",
        "          # 4 бит\n",
        "          for n in [0, 2, 4, 6, 8]:\n",
        "              proba_element[n] = proba_element[n] * l[0]\n",
        "          for n in [1, 3, 5, 7, 9]:\n",
        "              proba_element[n] = proba_element[n] * l[1]\n",
        "          sum_proba = sum(proba_element)\n",
        "          probability = [m / sum_proba for m in proba_element]\n",
        "          proba_score.append(probability)\n",
        "        return proba_score"
      ],
      "metadata": {
        "id": "g9X_PG9XNdrW"
      },
      "execution_count": null,
      "outputs": []
    },
    {
      "cell_type": "code",
      "source": [
        "clf_bin = BinarisedTargetClassifier()\n",
        "\n",
        "#обучаем\n",
        "clf_bin.fit(X_train, y_train)"
      ],
      "metadata": {
        "id": "_aiEcUMu5Z4w"
      },
      "execution_count": null,
      "outputs": []
    },
    {
      "cell_type": "code",
      "source": [
        "#предсказываем класс, считаем accuracy\n",
        "\n",
        "y_test_int = pd.Series()\n",
        "y_test_int = y_test.apply(lambda x: int(x))\n",
        "\n",
        "y_pred = clf_bin.predict(X_test)\n",
        "accuracy_bin = accuracy_score(y_test_int, y_pred)\n",
        "\n",
        "#предсказываем вероятность, считаем AUC\n",
        "score_bin = clf_bin.predict_score(X_test)\n",
        "auc_bin = roc_auc_score(y_test_int, score_bin, average='macro', multi_class = 'ovr')"
      ],
      "metadata": {
        "id": "E0Ms8shq7L9V"
      },
      "execution_count": null,
      "outputs": []
    },
    {
      "cell_type": "code",
      "source": [
        "res = pd.DataFrame(\n",
        "{'regression_type' : ['defolt_logreg', 'logreg_after_grid_search', 'bin_logreg'],\n",
        "'accuracy' : [acc_1, acc_2, accuracy_bin],\n",
        "'macro AUC' : [auc_roc_1, auc_roc_2, auc_bin]\n",
        "}\n",
        ")\n",
        "res"
      ],
      "metadata": {
        "colab": {
          "base_uri": "https://localhost:8080/",
          "height": 143
        },
        "id": "_VDzeEQh4jo3",
        "outputId": "16572d27-62ab-425b-fbf7-8d58ac5646bb"
      },
      "execution_count": null,
      "outputs": [
        {
          "output_type": "execute_result",
          "data": {
            "text/plain": [
              "            regression_type  accuracy  macro AUC\n",
              "0             defolt_logreg  0.912975   0.990129\n",
              "1  logreg_after_grid_search  0.914741   0.990610\n",
              "2                bin_logreg  0.725606   0.950212"
            ],
            "text/html": [
              "\n",
              "  <div id=\"df-fe82dd27-088d-436d-9886-2000519079d4\">\n",
              "    <div class=\"colab-df-container\">\n",
              "      <div>\n",
              "<style scoped>\n",
              "    .dataframe tbody tr th:only-of-type {\n",
              "        vertical-align: middle;\n",
              "    }\n",
              "\n",
              "    .dataframe tbody tr th {\n",
              "        vertical-align: top;\n",
              "    }\n",
              "\n",
              "    .dataframe thead th {\n",
              "        text-align: right;\n",
              "    }\n",
              "</style>\n",
              "<table border=\"1\" class=\"dataframe\">\n",
              "  <thead>\n",
              "    <tr style=\"text-align: right;\">\n",
              "      <th></th>\n",
              "      <th>regression_type</th>\n",
              "      <th>accuracy</th>\n",
              "      <th>macro AUC</th>\n",
              "    </tr>\n",
              "  </thead>\n",
              "  <tbody>\n",
              "    <tr>\n",
              "      <th>0</th>\n",
              "      <td>defolt_logreg</td>\n",
              "      <td>0.912975</td>\n",
              "      <td>0.990129</td>\n",
              "    </tr>\n",
              "    <tr>\n",
              "      <th>1</th>\n",
              "      <td>logreg_after_grid_search</td>\n",
              "      <td>0.914741</td>\n",
              "      <td>0.990610</td>\n",
              "    </tr>\n",
              "    <tr>\n",
              "      <th>2</th>\n",
              "      <td>bin_logreg</td>\n",
              "      <td>0.725606</td>\n",
              "      <td>0.950212</td>\n",
              "    </tr>\n",
              "  </tbody>\n",
              "</table>\n",
              "</div>\n",
              "      <button class=\"colab-df-convert\" onclick=\"convertToInteractive('df-fe82dd27-088d-436d-9886-2000519079d4')\"\n",
              "              title=\"Convert this dataframe to an interactive table.\"\n",
              "              style=\"display:none;\">\n",
              "        \n",
              "  <svg xmlns=\"http://www.w3.org/2000/svg\" height=\"24px\"viewBox=\"0 0 24 24\"\n",
              "       width=\"24px\">\n",
              "    <path d=\"M0 0h24v24H0V0z\" fill=\"none\"/>\n",
              "    <path d=\"M18.56 5.44l.94 2.06.94-2.06 2.06-.94-2.06-.94-.94-2.06-.94 2.06-2.06.94zm-11 1L8.5 8.5l.94-2.06 2.06-.94-2.06-.94L8.5 2.5l-.94 2.06-2.06.94zm10 10l.94 2.06.94-2.06 2.06-.94-2.06-.94-.94-2.06-.94 2.06-2.06.94z\"/><path d=\"M17.41 7.96l-1.37-1.37c-.4-.4-.92-.59-1.43-.59-.52 0-1.04.2-1.43.59L10.3 9.45l-7.72 7.72c-.78.78-.78 2.05 0 2.83L4 21.41c.39.39.9.59 1.41.59.51 0 1.02-.2 1.41-.59l7.78-7.78 2.81-2.81c.8-.78.8-2.07 0-2.86zM5.41 20L4 18.59l7.72-7.72 1.47 1.35L5.41 20z\"/>\n",
              "  </svg>\n",
              "      </button>\n",
              "      \n",
              "  <style>\n",
              "    .colab-df-container {\n",
              "      display:flex;\n",
              "      flex-wrap:wrap;\n",
              "      gap: 12px;\n",
              "    }\n",
              "\n",
              "    .colab-df-convert {\n",
              "      background-color: #E8F0FE;\n",
              "      border: none;\n",
              "      border-radius: 50%;\n",
              "      cursor: pointer;\n",
              "      display: none;\n",
              "      fill: #1967D2;\n",
              "      height: 32px;\n",
              "      padding: 0 0 0 0;\n",
              "      width: 32px;\n",
              "    }\n",
              "\n",
              "    .colab-df-convert:hover {\n",
              "      background-color: #E2EBFA;\n",
              "      box-shadow: 0px 1px 2px rgba(60, 64, 67, 0.3), 0px 1px 3px 1px rgba(60, 64, 67, 0.15);\n",
              "      fill: #174EA6;\n",
              "    }\n",
              "\n",
              "    [theme=dark] .colab-df-convert {\n",
              "      background-color: #3B4455;\n",
              "      fill: #D2E3FC;\n",
              "    }\n",
              "\n",
              "    [theme=dark] .colab-df-convert:hover {\n",
              "      background-color: #434B5C;\n",
              "      box-shadow: 0px 1px 3px 1px rgba(0, 0, 0, 0.15);\n",
              "      filter: drop-shadow(0px 1px 2px rgba(0, 0, 0, 0.3));\n",
              "      fill: #FFFFFF;\n",
              "    }\n",
              "  </style>\n",
              "\n",
              "      <script>\n",
              "        const buttonEl =\n",
              "          document.querySelector('#df-fe82dd27-088d-436d-9886-2000519079d4 button.colab-df-convert');\n",
              "        buttonEl.style.display =\n",
              "          google.colab.kernel.accessAllowed ? 'block' : 'none';\n",
              "\n",
              "        async function convertToInteractive(key) {\n",
              "          const element = document.querySelector('#df-fe82dd27-088d-436d-9886-2000519079d4');\n",
              "          const dataTable =\n",
              "            await google.colab.kernel.invokeFunction('convertToInteractive',\n",
              "                                                     [key], {});\n",
              "          if (!dataTable) return;\n",
              "\n",
              "          const docLinkHtml = 'Like what you see? Visit the ' +\n",
              "            '<a target=\"_blank\" href=https://colab.research.google.com/notebooks/data_table.ipynb>data table notebook</a>'\n",
              "            + ' to learn more about interactive tables.';\n",
              "          element.innerHTML = '';\n",
              "          dataTable['output_type'] = 'display_data';\n",
              "          await google.colab.output.renderOutput(dataTable, element);\n",
              "          const docLink = document.createElement('div');\n",
              "          docLink.innerHTML = docLinkHtml;\n",
              "          element.appendChild(docLink);\n",
              "        }\n",
              "      </script>\n",
              "    </div>\n",
              "  </div>\n",
              "  "
            ]
          },
          "metadata": {},
          "execution_count": 35
        }
      ]
    }
  ]
}